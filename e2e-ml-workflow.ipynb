{
    "cells": [
        {
            "attachments": {},
            "cell_type": "markdown",
            "metadata": {},
            "source": [
                "# Tutorial: Create production ML pipelines with Python SDK v2 (preview) in a Jupyter notebook\n"
            ]
        },
        {
            "attachments": {},
            "cell_type": "markdown",
            "metadata": {},
            "source": [
                "**Learning Objectives** - By the end of this two part tutorial, you should be able to use Azure Machine Learning (Azure ML) to productionize your ML project.\n",
                "\n",
                "This means you will be able to leverage the AzureML Python SDK to:\n",
                "\n",
                "- connect to your Azure ML workspace\n",
                "- create Azure ML data assets\n",
                "- create reusable Azure ML components\n",
                "- create, validate and run Azure ML pipelines\n",
                "- deploy the newly-trained model as an endpoint\n",
                "- call the Azure ML endpoint for inferencing"
            ]
        },
        {
            "attachments": {},
            "cell_type": "markdown",
            "metadata": {},
            "source": [
                "**Motivations** - This tutorial is intended to introduce Azure ML to data scientists who want to scale up or publish their ML projects. By completing a familiar end-to-end project, which starts by loading the data and ends by creating and calling an online inference endpoint, the user should become familiar with the core concepts of Azure ML and their most common usage. Each step of this tutorial can be modified or performed in other ways that might have security or scalability advantages. We will cover some of those in the Part II of this tutorial, however, we suggest the reader use the provide links in each section to learn more on each topic."
            ]
        },
        {
            "attachments": {},
            "cell_type": "markdown",
            "metadata": {},
            "source": [
                "**Requirements** - In order to benefit from this tutorial, you need to have:\n",
                "- basic understanding of Machine Learning projects workflow\n",
                "- an Azure subscription. If you don't have an Azure subscription, [create a free account](https://aka.ms/AMLFree) before you begin.\n",
                "- a working Azure ML workspace. A workspace can be created via Azure Portal, Azure CLI, or Python SDK. [Read more](https://docs.microsoft.com/en-us/azure/machine-learning/how-to-manage-workspace?tabs=python).\n",
                "- a Python environmnet\n",
                "- [installed Azure Machine Learning Python SDK v2](https://github.com/Azure/azureml-examples/blob/sdk-preview/sdk/setup.sh)"
            ]
        },
        {
            "attachments": {},
            "cell_type": "markdown",
            "metadata": {},
            "source": [
                "## Introduction\n",
                "\n",
                "In this tutorial, you'll create an Azure ML pipeline to train a model for credit default prediction. The pipeline handles the data preparation, training and registering the trained model.  You'll then run the pipeline, deploy the model and use it.\n",
                "\n",
                "The image below shows the pipeline as you'll see it in the AzureML portal once submitted. It's a rather simple pipeline we'll use to walk you through the AzureML SDK v2.\n",
                "\n",
                "The two steps are first data preparation and second training. \n",
                "\n",
                "![Screenshot that shows the AML Pipeline](media/pipeline-overview.jpg \"Overview of the pipeline\")\n",
                "\n",
                "An AzureML pipeline that runs from local components, requires several dependent files. Fo better understanding of the project structure, we produce all these dependencies in the notebook cells. By the end of this tutorial, the project structure should look like:\n",
                "```\n",
                "e2e-ds-experience  \n",
                "    components\n",
                "        data_prep\n",
                "            data_prep.py \n",
                "        train\n",
                "            train.py\n",
                "            train.yml   \n",
                "    dependencies\n",
                "        conda.yaml\n",
                "    deploy\n",
                "        sample-request.json\n",
                "    media\n",
                "        metrics.jpg\n",
                "        pipeline-overview.jpg\n",
                "        user-logs.jpg\n",
                "    e2e-ml-workflow.ipynb\n",
                "```\n",
                "After running this notebook, you should be able to create the project direcetly in the IDE of your choice, instead.\n",
                "\n",
                "## Set up the pipeline resources\n",
                "\n",
                "The Azure ML framework can be used from CLI, Python SDK, or studio interface. In this example, you'll use the AzureML Python SDK v2 to create a pipeline. \n",
                "\n",
                "Before creating the pipeline, you'll set up the resources the pipeline will use:\n",
                "\n",
                "* The dataset for training\n",
                "* The software environment to run the pipeline\n",
                "* A compute resource to where the job will run\n",
                "\n",
                "## Connect to the workspace\n",
                "\n",
                "Before we dive in the code, you'll need to connect to your Azure ML workspace. The workspace is the top-level resource for Azure Machine Learning, providing a centralized place to work with all the artifacts you create when you use Azure Machine Learning.\n",
                "\n",
                "We are using `DefaultAzureCredential` to get access to workspace. \n",
                "`DefaultAzureCredential` should be capable of handling most Azure SDK authentication scenarios. \n",
                "\n",
                "Reference for more available credentials if it does not work for you: [configure credential example](../../configuration.ipynb), [azure-identity reference doc](https://docs.microsoft.com/en-us/python/api/azure-identity/azure.identity?view=azure-python)."
            ]
        },
        {
            "cell_type": "code",
            "execution_count": 1,
            "metadata": {
                "attributes": {
                    "classes": [
                        "Python"
                    ],
                    "id": ""
                },
                "name": "import-mlclient"
            },
            "outputs": [
                {
                    "name": "stdout",
                    "output_type": "stream",
                    "text": [
                        "default Credentials\n"
                    ]
                },
                {
                    "name": "stderr",
                    "output_type": "stream",
                    "text": [
                        "DefaultAzureCredential failed to retrieve a token from the included credentials.\n",
                        "Attempted credentials:\n",
                        "\tEnvironmentCredential: EnvironmentCredential authentication unavailable. Environment variables are not fully configured.\n",
                        "Visit https://aka.ms/azsdk/python/identity/environmentcredential/troubleshoot to troubleshoot this issue.\n",
                        "\tManagedIdentityCredential: ManagedIdentityCredential authentication unavailable, no response from the IMDS endpoint.\n",
                        "\tSharedTokenCacheCredential: SharedTokenCacheCredential authentication unavailable. No accounts were found in the cache.\n",
                        "\tAzureCliCredential: Please run 'az login' to set up an account\n",
                        "\tAzurePowerShellCredential: Az.Account module >= 2.2.0 is not installed\n",
                        "\tAzureDeveloperCliCredential: Azure Developer CLI could not be found. Please visit https://aka.ms/azure-dev for installation instructions and then,once installed, authenticate to your Azure account using 'azd auth login'.\n",
                        "To mitigate this issue, please refer to the troubleshooting guidelines here at https://aka.ms/azsdk/python/identity/defaultazurecredential/troubleshoot.\n"
                    ]
                },
                {
                    "name": "stdout",
                    "output_type": "stream",
                    "text": [
                        "Interactive Browser Credential\n"
                    ]
                }
            ],
            "source": [
                "# Handle to the workspace\n",
                "from azure.ai.ml import MLClient\n",
                "\n",
                "# Authentication package\n",
                "from azure.identity import DefaultAzureCredential, InteractiveBrowserCredential\n",
                "\n",
                "try:\n",
                "    print(\"default Credentials\")\n",
                "    credential = DefaultAzureCredential()\n",
                "    # Check if given credential can get token successfully.\n",
                "    credential.get_token(\"https://management.azure.com/.default\")\n",
                "except Exception as ex:\n",
                "    print(\"Interactive Browser Credential\")\n",
                "    # Fall back to InteractiveBrowserCredential in case DefaultAzureCredential not work\n",
                "    credential = InteractiveBrowserCredential()"
            ]
        },
        {
            "attachments": {},
            "cell_type": "markdown",
            "metadata": {},
            "source": [
                "In the next cell, enter your Subscription ID, Resource Group name and Workspace name. To find your Subscription ID:\n",
                "1. In the upper right Azure Machine Learning Studio toolbar, select your workspace name.\n",
                "1. At the bottom, select **View all properties in Azure Portal**\n",
                "1. Copy the value from Azure Portal into the code."
            ]
        },
        {
            "cell_type": "code",
            "execution_count": 7,
            "metadata": {
                "attributes": {
                    "classes": [
                        "Python"
                    ],
                    "id": ""
                },
                "name": "ml_client"
            },
            "outputs": [],
            "source": [
                "# Get a handle to the workspace\n",
                "ml_client = MLClient(\n",
                "    credential=credential,\n",
                "    subscription_id=\"63880b48-bb62-41d7-89f0-5ec2a7386c2d\",\n",
                "    resource_group_name=\"scb\",\n",
                "    workspace_name=\"ml-karthik\"\n",
                ")"
            ]
        },
        {
            "cell_type": "code",
            "execution_count": 8,
            "metadata": {},
            "outputs": [
                {
                    "name": "stdout",
                    "output_type": "stream",
                    "text": [
                        "application_insights: /subscriptions/63880b48-bb62-41d7-89f0-5ec2a7386c2d/resourceGroups/scb/providers/Microsoft.insights/components/mlkarthiinsights85a53598\n",
                        "description: ml-karthik\n",
                        "discovery_url: https://centralindia.api.azureml.ms/discovery\n",
                        "display_name: ml-karthik\n",
                        "enable_data_isolation: false\n",
                        "hbi_workspace: false\n",
                        "id: /subscriptions/63880b48-bb62-41d7-89f0-5ec2a7386c2d/resourceGroups/scb/providers/Microsoft.MachineLearningServices/workspaces/ml-karthik\n",
                        "identity:\n",
                        "  principal_id: 26e8e294-6ad0-4cdd-9abe-17e92be44175\n",
                        "  tenant_id: 274102ec-cd24-4af2-a4c2-832941ce526f\n",
                        "  type: system_assigned\n",
                        "key_vault: /subscriptions/63880b48-bb62-41d7-89f0-5ec2a7386c2d/resourceGroups/scb/providers/Microsoft.Keyvault/vaults/mlkarthikeyvaulte4d1c63c\n",
                        "location: centralindia\n",
                        "managed_network:\n",
                        "  isolation_mode: disabled\n",
                        "  outbound_rules: []\n",
                        "mlflow_tracking_uri: azureml://centralindia.api.azureml.ms/mlflow/v1.0/subscriptions/63880b48-bb62-41d7-89f0-5ec2a7386c2d/resourceGroups/scb/providers/Microsoft.MachineLearningServices/workspaces/ml-karthik\n",
                        "name: ml-karthik\n",
                        "public_network_access: Enabled\n",
                        "resource_group: scb\n",
                        "storage_account: /subscriptions/63880b48-bb62-41d7-89f0-5ec2a7386c2d/resourceGroups/scb/providers/Microsoft.Storage/storageAccounts/mlkarthistorage47185dc3b\n",
                        "tags:\n",
                        "  createdByToolkit: sdk-v2-1.11.1\n",
                        "\n"
                    ]
                }
            ],
            "source": [
                "from azure.ai.ml.entities import Workspace\n",
                "\n",
                "try:\n",
                "    ws = ml_client.workspaces.get(name=\"ml-karthik\")\n",
                "except:\n",
                "    ws = Workspace(name=\"ml-karthik\",location=\"centralindia\",resource_group=\"scb\",\n",
                "                )\n",
                "    ws = ml_client.workspaces.begin_create(ws)\n",
                "finally:\n",
                "    print(ws)\n"
            ]
        },
        {
            "attachments": {},
            "cell_type": "markdown",
            "metadata": {},
            "source": [
                "The result is a handler to the workspace that you'll use to manage other resources and jobs.\n",
                "\n",
                "> [!IMPORTANT]\n",
                "> Creating MLClient will not connect to the workspace. The client initialization is lazy, it will wait for the first time it needs to make a call (in the notebook below, that will happen during dataset registration).\n",
                "\n",
                "## Register data from an external url\n",
                "\n",
                "The data you use for training is usually in one of the locations below:\n",
                "\n",
                "* Local machine\n",
                "* Web\n",
                "* Big Data Storage services (for example, Azure Blob, Azure Data Lake Storage, SQL)\n",
                " \n",
                "Azure ML uses a [`Data`](https://docs.microsoft.com/azure/machine-learning/how-to-create-register-data-assets?tabs=Python-SDK) object to register a reusable definition of data, and consume data within a pipeline. In the section below, you'll consume some data from web url as one example. `Data` assets ets from other sources can be created as well."
            ]
        },
        {
            "cell_type": "code",
            "execution_count": 9,
            "metadata": {
                "name": "credit_data"
            },
            "outputs": [],
            "source": [
                "from azure.ai.ml.entities import Data\n",
                "from azure.ai.ml.constants import AssetTypes\n",
                "\n",
                "web_path = \"https://archive.ics.uci.edu/ml/machine-learning-databases/00350/default%20of%20credit%20card%20clients.xls\"\n",
                "\n",
                "credit_data = Data(\n",
                "    name=\"creditcard_defaults\",\n",
                "    path=web_path,\n",
                "    type=AssetTypes.URI_FILE,\n",
                "    description=\"Dataset for credit card defaults\",\n",
                "    tags={\"source_type\": \"web\", \"source\": \"UCI ML Repo\"},\n",
                "    version=\"1.0.0\",\n",
                ")"
            ]
        },
        {
            "attachments": {},
            "cell_type": "markdown",
            "metadata": {},
            "source": [
                "This code just created a `Data` asset, it is ready to be consumed as an input by the pipeline that you'll define in the next sections. In addition, you can register the data to your workspace so it becomes reusable across pipelines.\n",
                "\n",
                "Registering the data asset will enable you to:\n",
                "\n",
                "* reuse and share the data asset in future pipelines\n",
                "* use versions to track the modification to the data asset\n",
                "* use the data asset from Azure ML designer, which is Azure ML's GUI for pipeline authoring\n",
                "\n",
                "Since this is the first time that you're making a call to the workspace, you may be asked to authenticate. Once the authentication is complete, you'll then see the dataset registration completion message."
            ]
        },
        {
            "cell_type": "code",
            "execution_count": 10,
            "metadata": {
                "attributes": {
                    "classes": [
                        "Python"
                    ],
                    "id": ""
                },
                "name": "update-credit_data"
            },
            "outputs": [
                {
                    "name": "stdout",
                    "output_type": "stream",
                    "text": [
                        "Dataset with name creditcard_defaults was registered to workspace, the dataset version is 1.0.0\n"
                    ]
                }
            ],
            "source": [
                "credit_data = ml_client.data.create_or_update(credit_data)\n",
                "print(\n",
                "    f\"Dataset with name {credit_data.name} was registered to workspace, the dataset version is {credit_data.version}\"\n",
                ")"
            ]
        },
        {
            "attachments": {},
            "cell_type": "markdown",
            "metadata": {},
            "source": [
                "In the future, you can fetch the same dataset from the workspace using `credit_dataset = ml_client.data.get(\"<DATA ASSET NAME>\", version='<VERSION>')`.\n",
                "\n",
                "## Create a Compute Resource to run our pipeline\n",
                "\n",
                "Each step of an Azure ML pipeline can use a different compute resource for running the specific job of that step. It can be single or multi-node machines with Linux or Windows OS, or a specific compute fabric like Spark.\n",
                "\n",
                "In this section, we provision a Linux [compute cluster](https://docs.microsoft.com/azure/machine-learning/how-to-create-attach-compute-cluster?tabs=python). See the [full list on VM sizes and prices](https://azure.microsoft.com/en-ca/pricing/details/machine-learning/) .\n",
                "\n",
                "For this tutorial we only need a basic cluster, let's pick a Standard_DS3_v2 model with 2 vCPU cores, 7 GB RAM and create an Azure ML Compute"
            ]
        },
        {
            "cell_type": "code",
            "execution_count": 11,
            "metadata": {
                "name": "cpu_cluster"
            },
            "outputs": [
                {
                    "name": "stdout",
                    "output_type": "stream",
                    "text": [
                        "You already have a cluster named cpu-cluster, we'll reuse it as is.\n",
                        "AMLCompute with name cpu-cluster is created, the compute size is STANDARD_DS3_V2\n"
                    ]
                }
            ],
            "source": [
                "from azure.ai.ml.entities import AmlCompute\n",
                "\n",
                "cpu_compute_target = \"cpu-cluster\"\n",
                "\n",
                "try:\n",
                "    # let's see if the compute target already exists\n",
                "    cpu_cluster = ml_client.compute.get(cpu_compute_target)\n",
                "    print(\n",
                "        f\"You already have a cluster named {cpu_compute_target}, we'll reuse it as is.\"\n",
                "    )\n",
                "\n",
                "except Exception:\n",
                "    print(\"Creating a new cpu compute target...\")\n",
                "\n",
                "    # Let's create the Azure ML compute object with the intended parameters\n",
                "    cpu_cluster = AmlCompute(\n",
                "        # Name assigned to the compute cluster\n",
                "        name=\"cpu-cluster\",\n",
                "        # Azure ML Compute is the on-demand VM service\n",
                "        type=\"amlcompute\",\n",
                "        # VM Family\n",
                "        size=\"STANDARD_DS3_V2\",\n",
                "        # Minimum running nodes when there is no job running\n",
                "        min_instances=0,\n",
                "        # Nodes in cluster\n",
                "        max_instances=4,\n",
                "        # How many seconds will the node running after the job termination\n",
                "        idle_time_before_scale_down=180,\n",
                "        # Dedicated or LowPriority. The latter is cheaper but there is a chance of job termination\n",
                "        tier=\"Dedicated\",\n",
                "    )\n",
                "\n",
                "    # Now, we pass the object to MLClient's create_or_update method\n",
                "    cpu_cluster = ml_client.begin_create_or_update(cpu_cluster).result()\n",
                "\n",
                "print(\n",
                "    f\"AMLCompute with name {cpu_cluster.name} is created, the compute size is {cpu_cluster.size}\"\n",
                ")"
            ]
        },
        {
            "attachments": {},
            "cell_type": "markdown",
            "metadata": {},
            "source": [
                "## Create a job environment for pipeline steps\n",
                "\n",
                "So far, you've created a development environment on the compute instance, your development machine. You'll also need an [environment](https://docs.microsoft.com/azure/machine-learning/concept-environments) to use for each step of the pipeline. Each step can have its own environment, or you can use some common environments for multiple steps.\n",
                "\n",
                "In this example, you'll create a conda environment for your jobs, using a conda yaml file.\n",
                "First, create a directory to store the file in."
            ]
        },
        {
            "cell_type": "code",
            "execution_count": 12,
            "metadata": {
                "name": "dependencies_dir"
            },
            "outputs": [],
            "source": [
                "import os\n",
                "\n",
                "dependencies_dir = \"./dependencies\"\n",
                "os.makedirs(dependencies_dir, exist_ok=True)"
            ]
        },
        {
            "attachments": {},
            "cell_type": "markdown",
            "metadata": {},
            "source": [
                "Now, create the file in the dependencies directory."
            ]
        },
        {
            "cell_type": "code",
            "execution_count": 13,
            "metadata": {
                "attributes": {
                    "classes": [
                        "Python"
                    ],
                    "id": ""
                },
                "name": "conda.yaml"
            },
            "outputs": [
                {
                    "name": "stdout",
                    "output_type": "stream",
                    "text": [
                        "Writing ./dependencies/conda.yaml\n"
                    ]
                }
            ],
            "source": [
                "%%writefile {dependencies_dir}/conda.yaml\n",
                "name: model-env\n",
                "channels:\n",
                "  - conda-forge\n",
                "dependencies:\n",
                "  - python=3.8\n",
                "  - numpy=1.21.2\n",
                "  - pip=21.2.4\n",
                "  - scikit-learn=0.24.2\n",
                "  - scipy=1.7.1\n",
                "  - pandas>=1.1,<1.2\n",
                "  - pip:\n",
                "    - inference-schema[numpy-support]==1.3.0\n",
                "    - xlrd==2.0.1\n",
                "    - mlflow== 1.26.1\n",
                "    - azureml-mlflow==1.42.0"
            ]
        },
        {
            "attachments": {},
            "cell_type": "markdown",
            "metadata": {},
            "source": [
                "The specification contains some usual packages, that you'll use in your pipeline (numpy, pip).\n",
                "\n",
                "\n",
                "Use the *yaml* file to create and register this custom environment in your workspace:"
            ]
        },
        {
            "cell_type": "code",
            "execution_count": 14,
            "metadata": {
                "attributes": {
                    "classes": [
                        "Python"
                    ],
                    "id": ""
                },
                "name": "custom_env_name"
            },
            "outputs": [
                {
                    "name": "stdout",
                    "output_type": "stream",
                    "text": [
                        "Environment with name aml-scikit-learn is registered to workspace, the environment version is 0.1.0\n"
                    ]
                }
            ],
            "source": [
                "from azure.ai.ml.entities import Environment\n",
                "\n",
                "custom_env_name = \"aml-scikit-learn\"\n",
                "\n",
                "pipeline_job_env = Environment(\n",
                "    name=custom_env_name,\n",
                "    description=\"Custom environment for Credit Card Defaults pipeline\",\n",
                "    tags={\"scikit-learn\": \"0.24.2\"},\n",
                "    conda_file=os.path.join(dependencies_dir, \"conda.yaml\"),\n",
                "    image=\"mcr.microsoft.com/azureml/openmpi4.1.0-ubuntu20.04:latest\",\n",
                "    version=\"0.1.0\",\n",
                ")\n",
                "pipeline_job_env = ml_client.environments.create_or_update(pipeline_job_env)\n",
                "\n",
                "print(\n",
                "    f\"Environment with name {pipeline_job_env.name} is registered to workspace, the environment version is {pipeline_job_env.version}\"\n",
                ")"
            ]
        },
        {
            "attachments": {},
            "cell_type": "markdown",
            "metadata": {},
            "source": [
                "## Build the training pipeline\n",
                "\n",
                "Now that you have all assets required to run your pipeline, it's time to build the pipeline itself, using the Azure ML Python SDK v2.\n",
                "\n",
                "Azure ML pipelines are reusable ML workflows that usually consist of several components. The typical life of a component is:\n",
                "\n",
                "* Write the yaml specification of the component.\n",
                "* Optionally, register the component with a name and version in your workspace, to make it reusable and shareable.\n",
                "* Load that component from the pipeline code.\n",
                "* Implement the pipeline using this component inputs, outputs and parameters.\n",
                "* Submit the pipeline.\n",
                "\n",
                "## Create component 1: data prep (using programmatic definition)\n",
                "\n",
                "Let's start by creating the first component. This component handles the preprocessing of the data. The preprocessing task is performed in the *data_prep.py* python file.\n",
                "\n",
                "First create a source folder for the data_prep component:"
            ]
        },
        {
            "cell_type": "code",
            "execution_count": 20,
            "metadata": {
                "attributes": {
                    "classes": [
                        "Python"
                    ],
                    "id": ""
                },
                "name": "data_prep_src_dir"
            },
            "outputs": [],
            "source": [
                "import os\n",
                "\n",
                "data_prep_src_dir = \"./components/data_prep\"\n",
                "os.makedirs(data_prep_src_dir, exist_ok=True)"
            ]
        },
        {
            "attachments": {},
            "cell_type": "markdown",
            "metadata": {},
            "source": [
                "This script performs the simple task of splitting the data into train and test datasets. \n",
                "\n",
                "[MLFlow](https://mlflow.org/docs/latest/tracking.html) will be used to log the parameters and metrics during our pipeline run."
            ]
        },
        {
            "cell_type": "code",
            "execution_count": 30,
            "metadata": {
                "attributes": {
                    "classes": [
                        "Python"
                    ],
                    "id": ""
                },
                "name": "def-main"
            },
            "outputs": [
                {
                    "name": "stdout",
                    "output_type": "stream",
                    "text": [
                        "Overwriting ./components/data_prep/data_prep.py\n"
                    ]
                }
            ],
            "source": [
                "%%writefile {data_prep_src_dir}/data_prep.py\n",
                "import os\n",
                "import argparse\n",
                "import pandas as pd\n",
                "from sklearn.model_selection import train_test_split\n",
                "import logging\n",
                "import mlflow\n",
                "\n",
                "\n",
                "def main():\n",
                "    \"\"\"Main function of the script.\"\"\"\n",
                "\n",
                "    # input and output arguments\n",
                "    parser = argparse.ArgumentParser()\n",
                "    parser.add_argument(\"--data\", type=str, help=\"path to input data\")\n",
                "    parser.add_argument(\"--test_train_ratio\", type=float, required=False, default=0.25)\n",
                "    parser.add_argument(\"--train_data\", type=str, help=\"path to train data\")\n",
                "    parser.add_argument(\"--test_data\", type=str, help=\"path to test data\")\n",
                "    args = parser.parse_args()\n",
                "\n",
                "    # Start Logging\n",
                "    mlflow.start_run()\n",
                "\n",
                "    print(\" \".join(f\"{k}={v}\" for k, v in vars(args).items()))\n",
                "\n",
                "    print(\"input data:\", args.data)\n",
                "\n",
                "    credit_df = pd.read_excel(args.data, header=1, index_col=0)\n",
                "\n",
                "    mlflow.log_metric(\"num_samples\", credit_df.shape[0])\n",
                "    mlflow.log_metric(\"num_features\", credit_df.shape[1] - 1)\n",
                "\n",
                "    credit_train_df, credit_test_df = train_test_split(\n",
                "        credit_df,\n",
                "        test_size=args.test_train_ratio,\n",
                "    )\n",
                "\n",
                "    # output paths are mounted as folder, therefore, we are adding a filename to the path\n",
                "    credit_train_df.to_csv(os.path.join(args.train_data, \"data.csv\"), index=False)\n",
                "\n",
                "    credit_test_df.to_csv(os.path.join(args.test_data, \"data.csv\"), index=False)\n",
                "\n",
                "    # Stop Logging\n",
                "    mlflow.end_run()\n",
                "\n",
                "    import os \n",
                "    print(os.getcwd())\n",
                "\n",
                "\n",
                "if __name__ == \"__main__\":\n",
                "    main()"
            ]
        },
        {
            "attachments": {},
            "cell_type": "markdown",
            "metadata": {},
            "source": [
                "Now that you have a script that can perform the desired task, we can create an Azure ML Component from it. Azure ML support various types of components for performing ML tasks, such as running scripts, data transfer, etc.\n",
                "\n",
                "A component can be created by calling the component instantiators, or directly writing the defining yaml file. \n",
                "\n",
                "You'll use the general purpose **command** that can run command line actions. This command line action can be directly calling system commands or running a script. The inputs/outputs are accessible in the command via the `${{ ... }}` notation. For the second component of this tutorial you will use `yaml` definitions.\n"
            ]
        },
        {
            "cell_type": "code",
            "execution_count": 23,
            "metadata": {
                "name": "data_prep_component"
            },
            "outputs": [],
            "source": [
                "from azure.ai.ml import command\n",
                "from azure.ai.ml import Input, Output\n",
                "\n",
                "data_prep_component = command(\n",
                "    name=\"data_prep_credit_defaults\",\n",
                "    display_name=\"Data preparation for training\",\n",
                "    description=\"reads a .xl input, split the input to train and test\",\n",
                "    inputs={\n",
                "        \"data\": Input(type=\"uri_folder\"),\n",
                "        \"test_train_ratio\": Input(type=\"number\"),\n",
                "    },\n",
                "    outputs=dict(\n",
                "        train_data=Output(type=\"uri_folder\", mode=\"rw_mount\"),\n",
                "        test_data=Output(type=\"uri_folder\", mode=\"rw_mount\"),\n",
                "    ),\n",
                "    # The source folder of the component\n",
                "    code=data_prep_src_dir,\n",
                "    command=\"\"\"python data_prep.py \\\n",
                "            --data ${{inputs.data}} --test_train_ratio ${{inputs.test_train_ratio}} \\\n",
                "            --train_data ${{outputs.train_data}} --test_data ${{outputs.test_data}} \\\n",
                "            \"\"\",\n",
                "    environment=f\"{pipeline_job_env.name}:{pipeline_job_env.version}\",\n",
                ")"
            ]
        },
        {
            "attachments": {},
            "cell_type": "markdown",
            "metadata": {
                "nteract": {
                    "transient": {
                        "deleting": false
                    }
                }
            },
            "source": [
                "Optionally, register the component in the workspace for future re-use. **command()** is a component builder, in order to fetch the component itself, we need to call the **.component** property from it."
            ]
        },
        {
            "cell_type": "code",
            "execution_count": 24,
            "metadata": {},
            "outputs": [
                {
                    "name": "stderr",
                    "output_type": "stream",
                    "text": [
                        "\u001b[32mUploading data_prep (0.0 MBs): 100%|##########| 1433/1433 [00:00<00:00, 13376.62it/s]\n",
                        "\u001b[39m\n",
                        "\n"
                    ]
                },
                {
                    "name": "stdout",
                    "output_type": "stream",
                    "text": [
                        "Component data_prep_credit_defaults with Version 1 is registered\n"
                    ]
                }
            ],
            "source": [
                "# Now we register the component to the workspace\n",
                "data_prep_component = ml_client.create_or_update(data_prep_component.component)\n",
                "\n",
                "# Create (register) the component in your workspace\n",
                "print(\n",
                "    f\"Component {data_prep_component.name} with Version {data_prep_component.version} is registered\"\n",
                ")"
            ]
        },
        {
            "attachments": {},
            "cell_type": "markdown",
            "metadata": {},
            "source": [
                "## Create component 2: training (using yaml definition)\n",
                "\n",
                "The second component that you'll create will consume the training and test data, train a tree based model and return the output model. You'll use Azure ML logging capabilities to record and visualize the learning progress.\n",
                "\n",
                "You used the `command` class to create your first component. This time you'll use the yaml definition to define the second component. Each method has its own advantages. A yaml definition can actually be checked-in along the code, and would provide a readable history tracking. Also, the same yaml file can be used in the CLI for component deficnition. The programmatic method using `command` can be easier with built-in class documentation and code completion.\n",
                "\n",
                "\n",
                "Create the directory for this component:"
            ]
        },
        {
            "cell_type": "code",
            "execution_count": 31,
            "metadata": {
                "attributes": {
                    "classes": [
                        "Python"
                    ],
                    "id": ""
                },
                "name": "train_src_dir"
            },
            "outputs": [],
            "source": [
                "import os\n",
                "\n",
                "train_src_dir = \"./components/train\"\n",
                "os.makedirs(train_src_dir, exist_ok=True)"
            ]
        },
        {
            "attachments": {},
            "cell_type": "markdown",
            "metadata": {},
            "source": [
                "Create the training script in the directory:"
            ]
        },
        {
            "cell_type": "code",
            "execution_count": 32,
            "metadata": {
                "attributes": {
                    "classes": [
                        "Python"
                    ],
                    "id": ""
                },
                "name": "train.py"
            },
            "outputs": [
                {
                    "name": "stdout",
                    "output_type": "stream",
                    "text": [
                        "Writing ./components/train/train.py\n"
                    ]
                }
            ],
            "source": [
                "%%writefile {train_src_dir}/train.py\n",
                "import argparse\n",
                "from sklearn.ensemble import GradientBoostingClassifier\n",
                "from sklearn.metrics import classification_report\n",
                "import os\n",
                "import pandas as pd\n",
                "import mlflow\n",
                "\n",
                "\n",
                "def select_first_file(path):\n",
                "    \"\"\"Selects first file in folder, use under assumption there is only one file in folder\n",
                "    Args:\n",
                "        path (str): path to directory or file to choose\n",
                "    Returns:\n",
                "        str: full path of selected file\n",
                "    \"\"\"\n",
                "    files = os.listdir(path)\n",
                "    return os.path.join(path, files[0])\n",
                "\n",
                "\n",
                "# Start Logging\n",
                "mlflow.start_run()\n",
                "\n",
                "# enable autologging\n",
                "mlflow.sklearn.autolog()\n",
                "\n",
                "os.makedirs(\"./outputs\", exist_ok=True)\n",
                "\n",
                "\n",
                "def main():\n",
                "    \"\"\"Main function of the script.\"\"\"\n",
                "\n",
                "    # input and output arguments\n",
                "    parser = argparse.ArgumentParser()\n",
                "    parser.add_argument(\"--train_data\", type=str, help=\"path to train data\")\n",
                "    parser.add_argument(\"--test_data\", type=str, help=\"path to test data\")\n",
                "    parser.add_argument(\"--n_estimators\", required=False, default=100, type=int)\n",
                "    parser.add_argument(\"--learning_rate\", required=False, default=0.1, type=float)\n",
                "    parser.add_argument(\"--registered_model_name\", type=str, help=\"model name\")\n",
                "    parser.add_argument(\"--model\", type=str, help=\"path to model file\")\n",
                "    args = parser.parse_args()\n",
                "\n",
                "    # paths are mounted as folder, therefore, we are selecting the file from folder\n",
                "    train_df = pd.read_csv(select_first_file(args.train_data))\n",
                "\n",
                "    # Extracting the label column\n",
                "    y_train = train_df.pop(\"default payment next month\")\n",
                "\n",
                "    # convert the dataframe values to array\n",
                "    X_train = train_df.values\n",
                "\n",
                "    # paths are mounted as folder, therefore, we are selecting the file from folder\n",
                "    test_df = pd.read_csv(select_first_file(args.test_data))\n",
                "\n",
                "    # Extracting the label column\n",
                "    y_test = test_df.pop(\"default payment next month\")\n",
                "\n",
                "    # convert the dataframe values to array\n",
                "    X_test = test_df.values\n",
                "\n",
                "    print(f\"Training with data of shape {X_train.shape}\")\n",
                "\n",
                "    clf = GradientBoostingClassifier(\n",
                "        n_estimators=args.n_estimators, learning_rate=args.learning_rate\n",
                "    )\n",
                "    clf.fit(X_train, y_train)\n",
                "\n",
                "    y_pred = clf.predict(X_test)\n",
                "\n",
                "    print(classification_report(y_test, y_pred))\n",
                "\n",
                "    # Registering the model to the workspace\n",
                "    print(\"Registering the model via MLFlow\")\n",
                "    mlflow.sklearn.log_model(\n",
                "        sk_model=clf,\n",
                "        registered_model_name=args.registered_model_name,\n",
                "        artifact_path=args.registered_model_name,\n",
                "    )\n",
                "\n",
                "    # Saving the model to a file\n",
                "    mlflow.sklearn.save_model(\n",
                "        sk_model=clf,\n",
                "        path=os.path.join(args.model, \"trained_model\"),\n",
                "    )\n",
                "\n",
                "    # Stop Logging\n",
                "    mlflow.end_run()\n",
                "\n",
                "\n",
                "if __name__ == \"__main__\":\n",
                "    main()"
            ]
        },
        {
            "attachments": {},
            "cell_type": "markdown",
            "metadata": {},
            "source": [
                "As you can see in this training script, once the model is trained, the model file is saved and registered to the workspace. Now you can use the registered model in inferencing endpoints.\n",
                "\n",
                "\n",
                "For the environment of this step, you'll use one of the built-in (curated) Azure ML environments. The tag `azureml`, tells the system to use look for the name in curated environments.\n",
                "\n",
                "First, create the *yaml* file describing the component:"
            ]
        },
        {
            "cell_type": "code",
            "execution_count": 33,
            "metadata": {
                "attributes": {
                    "classes": [
                        "Python"
                    ],
                    "id": ""
                },
                "name": "train.yml"
            },
            "outputs": [
                {
                    "name": "stdout",
                    "output_type": "stream",
                    "text": [
                        "Writing ./components/train/train.yml\n"
                    ]
                }
            ],
            "source": [
                "%%writefile {train_src_dir}/train.yml\n",
                "# <component>\n",
                "name: train_credit_defaults_model\n",
                "display_name: Train Credit Defaults Model\n",
                "# version: 1 # Not specifying a version will automatically update the version\n",
                "type: command\n",
                "inputs:\n",
                "  train_data: \n",
                "    type: uri_folder\n",
                "  test_data: \n",
                "    type: uri_folder\n",
                "  learning_rate:\n",
                "    type: number     \n",
                "  registered_model_name:\n",
                "    type: string\n",
                "outputs:\n",
                "  model:\n",
                "    type: uri_folder\n",
                "code: .\n",
                "environment:\n",
                "  # for this step, we'll use an AzureML curate environment\n",
                "  azureml:AzureML-sklearn-1.0-ubuntu20.04-py38-cpu:1\n",
                "command: >-\n",
                "  python train.py \n",
                "  --train_data ${{inputs.train_data}} \n",
                "  --test_data ${{inputs.test_data}} \n",
                "  --learning_rate ${{inputs.learning_rate}}\n",
                "  --registered_model_name ${{inputs.registered_model_name}} \n",
                "  --model ${{outputs.model}}\n",
                "# </component>\n"
            ]
        },
        {
            "attachments": {},
            "cell_type": "markdown",
            "metadata": {},
            "source": [
                "Once the `yaml` file and the script are ready, you can create your component using `load_component()`. "
            ]
        },
        {
            "cell_type": "code",
            "execution_count": 34,
            "metadata": {
                "attributes": {
                    "classes": [
                        "Python"
                    ],
                    "id": ""
                },
                "name": "train_component"
            },
            "outputs": [],
            "source": [
                "# importing the Component Package\n",
                "from azure.ai.ml import load_component\n",
                "\n",
                "# Loading the component from the yml file\n",
                "train_component = load_component(source=os.path.join(train_src_dir, \"train.yml\"))"
            ]
        },
        {
            "attachments": {},
            "cell_type": "markdown",
            "metadata": {},
            "source": [
                "Now create and register the component:"
            ]
        },
        {
            "cell_type": "code",
            "execution_count": 35,
            "metadata": {
                "attributes": {
                    "classes": [
                        "Python"
                    ],
                    "id": ""
                },
                "name": "update-train_component"
            },
            "outputs": [
                {
                    "name": "stderr",
                    "output_type": "stream",
                    "text": [
                        "\u001b[32mUploading train (0.0 MBs): 100%|##########| 3527/3527 [00:01<00:00, 3220.23it/s]\n",
                        "\u001b[39m\n",
                        "\n"
                    ]
                },
                {
                    "name": "stdout",
                    "output_type": "stream",
                    "text": [
                        "Component train_credit_defaults_model with Version 1 is registered\n"
                    ]
                }
            ],
            "source": [
                "# Now we register the component to the workspace\n",
                "train_component = ml_client.create_or_update(train_component)\n",
                "\n",
                "# Create (register) the component in your workspace\n",
                "print(\n",
                "    f\"Component {train_component.name} with Version {train_component.version} is registered\"\n",
                ")"
            ]
        },
        {
            "attachments": {},
            "cell_type": "markdown",
            "metadata": {},
            "source": [
                "## Create the pipeline from components\n",
                "\n",
                "Now that both your components are defined and registered, you can start implementing the pipeline."
            ]
        },
        {
            "attachments": {},
            "cell_type": "markdown",
            "metadata": {},
            "source": [
                "Here, you'll use *input data*, *split ratio* and *registered model name* as input variables. Then call the components and connect them via their inputs /outputs identifiers. The outputs of each step can be accessed via the `.outputs` property."
            ]
        },
        {
            "attachments": {},
            "cell_type": "markdown",
            "metadata": {
                "attributes": {
                    "classes": [
                        "Python"
                    ],
                    "id": ""
                }
            },
            "source": [
                "The python functions returned by `load_component()` work as any regular python function that we'll use within a pipeline to call each step.\n",
                "\n",
                "To code the pipeline, we use a specific `@dsl.pipeline` decorator that identifies the Azure ML pipelines. In the decorator, we can specify the pipeline description and default resources like compute and storage. Like a python function, pipelines can have inputs, you can then create multiple instances of a single pipeline with different inputs.\n",
                "\n",
                "Here, we used *input data*, *split ratio* and *registered model name* as input variables. We then call the components and connect them via their inputs /outputs identifiers. The outputs of each step can be accessed via the `.outputs` property."
            ]
        },
        {
            "cell_type": "code",
            "execution_count": 36,
            "metadata": {
                "attributes": {
                    "classes": [
                        "Python"
                    ],
                    "id": ""
                },
                "name": "pipeline"
            },
            "outputs": [],
            "source": [
                "# the dsl decorator tells the sdk that we are defining an Azure ML pipeline\n",
                "from azure.ai.ml import dsl, Input, Output\n",
                "\n",
                "\n",
                "@dsl.pipeline(\n",
                "    compute=cpu_compute_target,\n",
                "    description=\"E2E data_perp-train pipeline\",\n",
                ")\n",
                "def credit_defaults_pipeline(\n",
                "    pipeline_job_data_input,\n",
                "    pipeline_job_test_train_ratio,\n",
                "    pipeline_job_learning_rate,\n",
                "    pipeline_job_registered_model_name,\n",
                "):\n",
                "    # using data_prep_function like a python call with its own inputs\n",
                "    data_prep_job = data_prep_component(\n",
                "        data=pipeline_job_data_input,\n",
                "        test_train_ratio=pipeline_job_test_train_ratio,\n",
                "    )\n",
                "\n",
                "    # using train_func like a python call with its own inputs\n",
                "    train_job = train_component(\n",
                "        train_data=data_prep_job.outputs.train_data,  # note: using outputs from previous step\n",
                "        test_data=data_prep_job.outputs.test_data,  # note: using outputs from previous step\n",
                "        learning_rate=pipeline_job_learning_rate,  # note: using a pipeline input as parameter\n",
                "        registered_model_name=pipeline_job_registered_model_name,\n",
                "    )\n",
                "\n",
                "    # a pipeline returns a dictionary of outputs\n",
                "    # keys will code for the pipeline output identifier\n",
                "    return {\n",
                "        \"pipeline_job_train_data\": data_prep_job.outputs.train_data,\n",
                "        \"pipeline_job_test_data\": data_prep_job.outputs.test_data,\n",
                "    }"
            ]
        },
        {
            "attachments": {},
            "cell_type": "markdown",
            "metadata": {},
            "source": [
                "Now use your pipeline definition to instantiate a pipeline with your dataset, split rate of choice and the name you picked for your model."
            ]
        },
        {
            "cell_type": "code",
            "execution_count": 37,
            "metadata": {
                "attributes": {
                    "classes": [
                        "Python"
                    ],
                    "id": ""
                },
                "name": "registered_model_name"
            },
            "outputs": [],
            "source": [
                "registered_model_name = \"credit_defaults_model\"\n",
                "\n",
                "# Let's instantiate the pipeline with the parameters of our choice\n",
                "pipeline = credit_defaults_pipeline(\n",
                "    pipeline_job_data_input=Input(type=\"uri_file\", path=credit_data.path),\n",
                "    pipeline_job_test_train_ratio=0.25,\n",
                "    pipeline_job_learning_rate=0.05,\n",
                "    pipeline_job_registered_model_name=registered_model_name,\n",
                ")"
            ]
        },
        {
            "attachments": {},
            "cell_type": "markdown",
            "metadata": {},
            "source": [
                "## Submit the job \n",
                "\n",
                "It's now time to submit the job to run in Azure ML. This time you'll use `create_or_update`  on `ml_client.jobs`.\n",
                "\n",
                "Here you'll also pass an experiment name. An experiment is a container for all the iterations one does on a certain project. All the jobs submitted under the same experiment name would be listed next to each other in Azure ML studio.\n",
                "\n",
                "Once completed, the pipeline will register a model in your workspace as a result of training."
            ]
        },
        {
            "cell_type": "code",
            "execution_count": 38,
            "metadata": {
                "name": "returned_job"
            },
            "outputs": [
                {
                    "name": "stderr",
                    "output_type": "stream",
                    "text": [
                        "Class AutoDeleteSettingSchema: This is an experimental class, and may change at any time. Please see https://aka.ms/azuremlexperimental for more information.\n",
                        "Class AutoDeleteConditionSchema: This is an experimental class, and may change at any time. Please see https://aka.ms/azuremlexperimental for more information.\n",
                        "Class BaseAutoDeleteSettingSchema: This is an experimental class, and may change at any time. Please see https://aka.ms/azuremlexperimental for more information.\n",
                        "Class IntellectualPropertySchema: This is an experimental class, and may change at any time. Please see https://aka.ms/azuremlexperimental for more information.\n",
                        "Class ProtectionLevelSchema: This is an experimental class, and may change at any time. Please see https://aka.ms/azuremlexperimental for more information.\n",
                        "Class BaseIntellectualPropertySchema: This is an experimental class, and may change at any time. Please see https://aka.ms/azuremlexperimental for more information.\n"
                    ]
                },
                {
                    "data": {
                        "text/plain": [
                            "True"
                        ]
                    },
                    "execution_count": 38,
                    "metadata": {},
                    "output_type": "execute_result"
                }
            ],
            "source": [
                "import webbrowser\n",
                "\n",
                "# submit the pipeline job\n",
                "pipeline_job = ml_client.jobs.create_or_update(\n",
                "    pipeline,\n",
                "    # Project's name\n",
                "    experiment_name=\"e2e_registered_components\",\n",
                ")s\n",
                "# open the pipeline in web browser\n",
                "webbrowser.open(pipeline_job.studio_url)"
            ]
        },
        {
            "attachments": {},
            "cell_type": "markdown",
            "metadata": {
                "attributes": {
                    "classes": [
                        "Python"
                    ],
                    "id": ""
                }
            },
            "source": [
                "The python functions returned by `load_component()` work as any regular python function that we'll use within a pipeline to call each step.\n",
                "\n",
                "To code the pipeline, we use a specific `@dsl.pipeline` decorator that identifies the Azure ML pipelines. In the decorator, we can specify the pipeline description and default resources like compute and storage. Like a python function, pipelines can have inputs, you can then create multiple instances of a single pipeline with different inputs.\n",
                "\n",
                "Here, we used *input data*, *split ratio* and *registered model name* as input variables. We then call the components and connect them via their inputs /outputs identifiers. The outputs of each step can be accessed via the `.outputs` property."
            ]
        },
        {
            "attachments": {},
            "cell_type": "markdown",
            "metadata": {},
            "source": [
                "You can track the progress of your pipeline, by using the link generated in the cell above or in this notebook using the following code:\n",
                "```python\n",
                "    ml_client.jobs.stream(pipeline_job.name)\n",
                "```\n",
                "\n",
                "When you select on each component, you'll see more information about the results of that component. \n",
                "There are two important parts to look for at this stage:\n",
                "* `Outputs+logs` > `user_logs` > `std_log.txt`\n",
                "This section shows the script run sdtout."
            ]
        },
        {
            "attachments": {},
            "cell_type": "markdown",
            "metadata": {},
            "source": [
                "* `Outputs+logs` > `Metric`\n",
                "This section shows different logged metrics. In this example. mlflow `autologging`, has automatically logged the training metrics."
            ]
        },
        {
            "attachments": {},
            "cell_type": "markdown",
            "metadata": {},
            "source": [
                "## Deploy the model as an online endpoint\n",
                "\n",
                "Now deploy your machine learning model as a web service in the Azure cloud, an [`online endpoint`](https://docs.microsoft.com/azure/machine-learning/concept-endpoints).\n",
                "\n",
                "To deploy a machine learning service, you usually need:\n",
                "\n",
                "* The model assets (filed, metadata) that you want to deploy. You've already registered these assets in your training component.\n",
                "* Some code to run as a service. The code executes the model on a given input request. This entry script receives data submitted to a deployed web service and passes it to the model, then returns the model's response to the client. The script is specific to your model. The entry script must understand the data that the model expects and returns. When using a MLFlow model, as in this tutorial, this script is automatically created for you. Samples of scoring scripts can be found [here](https://github.com/Azure/azureml-examples/tree/sdk-preview/sdk/endpoints/online).\n",
                "\n"
            ]
        },
        {
            "attachments": {},
            "cell_type": "markdown",
            "metadata": {},
            "source": [
                "## Create a new online endpoint\n",
                "\n",
                "Now that you have a registered model and an inference script, it's time to create your online endpoint. The endpoint name needs to be unique in the entire Azure region. For this tutorial, you'll create a unique name using [`UUID`](https://en.wikipedia.org/wiki/Universally_unique_identifier#:~:text=A%20universally%20unique%20identifier%20(UUID,%2C%20for%20practical%20purposes%2C%20unique.)."
            ]
        },
        {
            "cell_type": "code",
            "execution_count": 30,
            "metadata": {
                "attributes": {
                    "classes": [
                        "Python"
                    ],
                    "id": ""
                },
                "name": "online_endpoint_name"
            },
            "outputs": [],
            "source": [
                "import uuid\n",
                "\n",
                "# Creating a unique name for the endpoint\n",
                "online_endpoint_name = \"credit-endpoint-\" + str(uuid.uuid4())[:8]"
            ]
        },
        {
            "cell_type": "code",
            "execution_count": 31,
            "metadata": {
                "attributes": {
                    "classes": [
                        "Python"
                    ],
                    "id": ""
                },
                "name": "endpoint"
            },
            "outputs": [
                {
                    "name": "stdout",
                    "output_type": "stream",
                    "text": [
                        "Endpint credit-endpoint-96d8d40a provisioning state: Succeeded\n"
                    ]
                }
            ],
            "source": [
                "from azure.ai.ml.entities import (\n",
                "    ManagedOnlineEndpoint,\n",
                "    ManagedOnlineDeployment,\n",
                "    Model,\n",
                "    Environment,\n",
                ")\n",
                "\n",
                "# create an online endpoint\n",
                "endpoint = ManagedOnlineEndpoint(\n",
                "    name=online_endpoint_name,\n",
                "    description=\"this is an online endpoint\",\n",
                "    auth_mode=\"key\",\n",
                "    tags={\n",
                "        \"training_dataset\": \"credit_defaults\",\n",
                "        \"model_type\": \"sklearn.GradientBoostingClassifier\",\n",
                "    },\n",
                ")\n",
                "\n",
                "endpoint_result = ml_client.begin_create_or_update(endpoint).result()\n",
                "\n",
                "print(\n",
                "    f\"Endpint {endpoint_result.name} provisioning state: {endpoint_result.provisioning_state}\"\n",
                ")"
            ]
        },
        {
            "attachments": {},
            "cell_type": "markdown",
            "metadata": {},
            "source": [
                "Once you've created an endpoint, you can retrieve it as below:"
            ]
        },
        {
            "cell_type": "code",
            "execution_count": 32,
            "metadata": {
                "attributes": {
                    "classes": [
                        "Python"
                    ],
                    "id": ""
                },
                "name": "update-endpoint"
            },
            "outputs": [
                {
                    "name": "stdout",
                    "output_type": "stream",
                    "text": [
                        "Endpint \"credit-endpoint-96d8d40a\" with provisioning state \"Succeeded\" is retrieved\n"
                    ]
                }
            ],
            "source": [
                "endpoint = ml_client.online_endpoints.get(name=online_endpoint_name)\n",
                "\n",
                "print(\n",
                "    f'Endpint \"{endpoint.name}\" with provisioning state \"{endpoint.provisioning_state}\" is retrieved'\n",
                ")"
            ]
        },
        {
            "attachments": {},
            "cell_type": "markdown",
            "metadata": {},
            "source": [
                "## Deploy the model to the endpoint\n",
                "\n",
                "Once the endpoint is created, deploy the model with the entry script. Each endpoint can have multiple deployments and direct traffic to these deployments can be specified using rules. Here you'll create a single deployment that handles 100% of the incoming traffic. We have chosen a color name for the deployment, for example, *blue*, *green*, *red* deployments, which is arbitrary.\n",
                "\n",
                "You can check the *Models* page on the Azure ML studio, to identify the latest version of your registered model. Alternatively, the code below will retrieve the latest version number for you to use."
            ]
        },
        {
            "cell_type": "code",
            "execution_count": 33,
            "metadata": {
                "attributes": {
                    "classes": [
                        "Python"
                    ],
                    "id": ""
                },
                "name": "latest_model_version"
            },
            "outputs": [],
            "source": [
                "# Let's pick the latest version of the model\n",
                "latest_model_version = max(\n",
                "    [int(m.version) for m in ml_client.models.list(name=registered_model_name)]\n",
                ")"
            ]
        },
        {
            "attachments": {},
            "cell_type": "markdown",
            "metadata": {},
            "source": [
                "Deploy the latest version of the model.  \n",
                "\n",
                "> [!NOTE]\n",
                "> Expect this deployment to take approximately 6 to 8 minutes."
            ]
        },
        {
            "cell_type": "code",
            "execution_count": 36,
            "metadata": {
                "name": "model"
            },
            "outputs": [
                {
                    "name": "stderr",
                    "output_type": "stream",
                    "text": [
                        "Check: endpoint credit-endpoint-96d8d40a exists\n",
                        "data_collector is not a known attribute of class <class 'azure.ai.ml._restclient.v2022_02_01_preview.models._models_py3.ManagedOnlineDeployment'> and will be ignored\n"
                    ]
                },
                {
                    "name": "stdout",
                    "output_type": "stream",
                    "text": [
                        "...........................................................................................Deployment blue provisioning state: Succeeded\n"
                    ]
                }
            ],
            "source": [
                "# picking the model to deploy. Here we use the latest version of our registered model\n",
                "model = ml_client.models.get(name=registered_model_name, version=latest_model_version)\n",
                "\n",
                "\n",
                "# create an online deployment.\n",
                "blue_deployment = ManagedOnlineDeployment(\n",
                "    name=\"blue\",\n",
                "    endpoint_name=online_endpoint_name,\n",
                "    model=model,\n",
                "    instance_type=\"Standard_F4s_v2\",\n",
                "    instance_count=1,\n",
                ")\n",
                "\n",
                "blue_deployment_results = ml_client.online_deployments.begin_create_or_update(\n",
                "    blue_deployment\n",
                ").result()\n",
                "\n",
                "print(\n",
                "    f\"Deployment {blue_deployment_results.name} provisioning state: {blue_deployment_results.provisioning_state}\"\n",
                ")"
            ]
        },
        {
            "attachments": {},
            "cell_type": "markdown",
            "metadata": {},
            "source": [
                "### Test with a sample query\n",
                "\n",
                "Now that the model is deployed to the endpoint, you can run inference with it.\n",
                "\n",
                "Create a sample request file following the design expected in the run method in the score script."
            ]
        },
        {
            "cell_type": "code",
            "execution_count": 37,
            "metadata": {
                "name": "sample-request.json"
            },
            "outputs": [],
            "source": [
                "deploy_dir = \"./deploy\"\n",
                "os.makedirs(deploy_dir, exist_ok=True)"
            ]
        },
        {
            "cell_type": "code",
            "execution_count": 38,
            "metadata": {
                "name": "write-sample-request"
            },
            "outputs": [
                {
                    "name": "stdout",
                    "output_type": "stream",
                    "text": [
                        "Writing ./deploy/sample-request.json\n"
                    ]
                }
            ],
            "source": [
                "%%writefile {deploy_dir}/sample-request.json\n",
                "{\n",
                "  \"input_data\": {\n",
                "    \"columns\": [0,1,2,3,4,5,6,7,8,9,10,11,12,13,14,15,16,17,18,19,20,21,22],\n",
                "    \"index\": [0, 1],\n",
                "    \"data\": [\n",
                "            [20000,2,2,1,24,2,2,-1,-1,-2,-2,3913,3102,689,0,0,0,0,689,0,0,0,0],\n",
                "            [10, 9, 8, 7, 6, 5, 4, 3, 2, 1, 10, 9, 8, 7, 6, 5, 4, 3, 2, 1, 10, 9, 8]\n",
                "        ]\n",
                "  }\n",
                "}"
            ]
        },
        {
            "cell_type": "code",
            "execution_count": 39,
            "metadata": {
                "attributes": {
                    "classes": [
                        "Python"
                    ],
                    "id": ""
                },
                "name": "ml_client.online_endpoints.invoke"
            },
            "outputs": [
                {
                    "data": {
                        "text/plain": [
                            "'[1, 0]'"
                        ]
                    },
                    "execution_count": 39,
                    "metadata": {},
                    "output_type": "execute_result"
                }
            ],
            "source": [
                "# test the blue deployment with some sample data\n",
                "ml_client.online_endpoints.invoke(\n",
                "    endpoint_name=online_endpoint_name,\n",
                "    request_file=\"./deploy/sample-request.json\",\n",
                "    deployment_name=\"blue\",\n",
                ")"
            ]
        },
        {
            "cell_type": "code",
            "execution_count": 40,
            "metadata": {},
            "outputs": [
                {
                    "data": {
                        "text/plain": [
                            "'https://credit-endpoint-96d8d40a.centralindia.inference.ml.azure.com/score'"
                        ]
                    },
                    "execution_count": 40,
                    "metadata": {},
                    "output_type": "execute_result"
                }
            ],
            "source": [
                "endpoint_result.scoring_uri"
            ]
        },
        {
            "cell_type": "code",
            "execution_count": 43,
            "metadata": {},
            "outputs": [
                {
                    "data": {
                        "text/plain": [
                            "<azure.ai.ml.entities._credentials.IdentityConfiguration at 0x29690ffa740>"
                        ]
                    },
                    "execution_count": 43,
                    "metadata": {},
                    "output_type": "execute_result"
                }
            ],
            "source": []
        },
        {
            "cell_type": "code",
            "execution_count": 44,
            "metadata": {},
            "outputs": [
                {
                    "data": {
                        "text/plain": [
                            "b'[1, 0]'"
                        ]
                    },
                    "execution_count": 44,
                    "metadata": {},
                    "output_type": "execute_result"
                }
            ],
            "source": [
                "import json\n",
                "import requests\n",
                "\n",
                "url = endpoint_result.scoring_uri\n",
                "api_key = \"hXi5zuyqDMO83cqT5rtYZcZMTgwqJp8w\"\n",
                "headers = {'Content-Type':'application/json', 'Authorization':('Bearer '+ api_key), 'azureml-model-deployment': 'blue' }\n",
                "data = {\n",
                "  \"input_data\": {\n",
                "    \"columns\": [0,1,2,3,4,5,6,7,8,9,10,11,12,13,14,15,16,17,18,19,20,21,22],\n",
                "    \"index\": [0, 1],\n",
                "    \"data\": [\n",
                "            [20000,2,2,1,24,2,2,-1,-1,-2,-2,3913,3102,689,0,0,0,0,689,0,0,0,0],\n",
                "            [10, 9, 8, 7, 6, 5, 4, 3, 2, 1, 10, 9, 8, 7, 6, 5, 4, 3, 2, 1, 10, 9, 8]\n",
                "        ]\n",
                "  }\n",
                "}\n",
                "\n",
                "response = requests.post(url,data=json.dumps(data),headers=headers)\n",
                "response.content"
            ]
        },
        {
            "attachments": {},
            "cell_type": "markdown",
            "metadata": {},
            "source": [
                "## Clean up resources\n",
                "\n",
                "If you're not going to use the endpoint, delete it to stop using the resource.  Make sure no other deployments are using an endpoint before you delete it.\n",
                "\n",
                "\n",
                "> [!NOTE]\n",
                "> Expect this step to take approximately 6 to 8 minutes."
            ]
        },
        {
            "cell_type": "code",
            "execution_count": 45,
            "metadata": {
                "attributes": {
                    "classes": [
                        "python "
                    ],
                    "id": ""
                },
                "name": "ml_client.online_endpoints.begin_delete"
            },
            "outputs": [
                {
                    "data": {
                        "text/plain": [
                            "<azure.core.polling._poller.LROPoller at 0x296910c29e0>"
                        ]
                    },
                    "execution_count": 45,
                    "metadata": {},
                    "output_type": "execute_result"
                },
                {
                    "name": "stdout",
                    "output_type": "stream",
                    "text": [
                        "."
                    ]
                }
            ],
            "source": [
                "ml_client.online_endpoints.begin_delete(name=online_endpoint_name)"
            ]
        },
        {
            "cell_type": "code",
            "execution_count": null,
            "metadata": {},
            "outputs": [],
            "source": []
        },
        {
            "attachments": {},
            "cell_type": "markdown",
            "metadata": {},
            "source": [
                "# Create Batch Endpoint\n",
                "\n",
                "Batch endpoints are endpoints that are used batch inferencing on large volumes of data over a period of time. Batch endpoints receive pointers to data and run jobs asynchronously to process the data in parallel on compute clusters. Batch endpoints store outputs to a data store for further analysis.\n",
                "\n",
                "To create an online endpoint we will use `BatchEndpoint`. This class allows user to configure the following key aspects:\n",
                "- `name` - Name of the endpoint. Needs to be unique at the Azure region level\n",
                "- `auth_mode` - The authentication method for the endpoint. Currently only Azure Active Directory (Azure AD) token-based (`aad_token`) authentication is supported. \n",
                "- `description`- Description of the endpoint.\n",
                "\n",
                "### 3.1 Configure the endpoint\n",
                "\n",
                "First, let's create the endpoint that is going to host the batch deployments. To ensure that our endpoint name is unique, let's create a random suffix to append to it. \n",
                "\n",
                "> In general, you won't need to use this technique but you will use more meaningful names. Please skip the following cell if your case:"
            ]
        },
        {
            "cell_type": "code",
            "execution_count": 46,
            "metadata": {},
            "outputs": [
                {
                    "name": "stdout",
                    "output_type": "stream",
                    "text": [
                        "..."
                    ]
                }
            ],
            "source": [
                "from azure.ai.ml import MLClient, Input\n",
                "from azure.ai.ml.entities import BatchEndpoint, BatchDeployment, Model, AmlCompute, Data\n"
            ]
        },
        {
            "cell_type": "code",
            "execution_count": 47,
            "metadata": {},
            "outputs": [
                {
                    "name": "stdout",
                    "output_type": "stream",
                    "text": [
                        ".."
                    ]
                }
            ],
            "source": [
                "import random\n",
                "import string\n",
                "\n",
                "# Creating a unique endpoint name by including a random suffix\n",
                "allowed_chars = string.ascii_lowercase + string.digits\n",
                "endpoint_suffix = \"\".join(random.choice(allowed_chars) for x in range(5))\n",
                "endpoint_name = \"my-classifier-\" + endpoint_suffix"
            ]
        },
        {
            "attachments": {},
            "cell_type": "markdown",
            "metadata": {},
            "source": [
                "Let's configure the endpoint:"
            ]
        },
        {
            "cell_type": "code",
            "execution_count": 48,
            "metadata": {},
            "outputs": [
                {
                    "name": "stdout",
                    "output_type": "stream",
                    "text": [
                        "."
                    ]
                }
            ],
            "source": [
                "endpoint = BatchEndpoint(\n",
                "    name=endpoint_name,\n",
                "    description=\"A classifier for batch inference\",\n",
                ")"
            ]
        },
        {
            "attachments": {},
            "cell_type": "markdown",
            "metadata": {},
            "source": [
                "### 3.2 Create the endpoint\n",
                "Using the `MLClient` created earlier, we will now create the Endpoint in the workspace. This command will start the endpoint creation and return a confirmation response while the endpoint creation continues."
            ]
        },
        {
            "cell_type": "code",
            "execution_count": 49,
            "metadata": {},
            "outputs": [
                {
                    "name": "stdout",
                    "output_type": "stream",
                    "text": [
                        "......"
                    ]
                },
                {
                    "data": {
                        "text/plain": [
                            "<azure.ai.ml._restclient.v2022_05_01.models._models_py3.BatchEndpointData at 0x29691085c00>"
                        ]
                    },
                    "execution_count": 49,
                    "metadata": {},
                    "output_type": "execute_result"
                },
                {
                    "name": "stdout",
                    "output_type": "stream",
                    "text": [
                        "....."
                    ]
                }
            ],
            "source": [
                "ml_client.batch_endpoints.begin_create_or_update(endpoint).result()"
            ]
        },
        {
            "attachments": {},
            "cell_type": "markdown",
            "metadata": {},
            "source": [
                "## 4. Create a batch deployment\n",
                "\n",
                "A deployment is a set of resources required for hosting the model that does the actual inferencing. We will create a deployment for our endpoint using the `BatchDeployment` class.\n",
                "\n",
                "### 4.1 Creating an scoring script to work with the model\n",
                "\n",
                "> MLflow models don't require an scoring script."
            ]
        },
        {
            "attachments": {},
            "cell_type": "markdown",
            "metadata": {},
            "source": [
                "### 4.2 Creating the compute\n",
                "\n",
                "Batch deployments can run on any Azure ML compute that already exists in the workspace. That means that multiple batch deployments can share the same compute infrastructure. In this example, we are going to work on an AzureML compute cluster called `cpu-cluster`. Let's verify the compute exists on the workspace or create it otherwise."
            ]
        },
        {
            "cell_type": "code",
            "execution_count": 64,
            "metadata": {},
            "outputs": [
                {
                    "name": "stdout",
                    "output_type": "stream",
                    "text": [
                        "Compute cpu-cluster is not created. Creating...\n"
                    ]
                }
            ],
            "source": [
                "compute_name = \"cpu-cluster\"\n",
                "if not any(filter(lambda m: m.name == compute_name, ml_client.compute.list())):\n",
                "    print(f\"Compute {compute_name} is not created. Creating...\")\n",
                "    compute_cluster = AmlCompute(\n",
                "        name=compute_name, description=\"amlcompute\", min_instances=0, max_instances=1\n",
                "    )\n",
                "    ml_client.begin_create_or_update(compute_cluster).result()"
            ]
        },
        {
            "attachments": {},
            "cell_type": "markdown",
            "metadata": {},
            "source": [
                "Compute may take time to be created. Let's wait for it:"
            ]
        },
        {
            "cell_type": "code",
            "execution_count": 65,
            "metadata": {},
            "outputs": [
                {
                    "name": "stdout",
                    "output_type": "stream",
                    "text": [
                        "Waiting for compute [DONE]\n"
                    ]
                }
            ],
            "source": [
                "from time import sleep\n",
                "\n",
                "print(\"Waiting for compute\", end=\"\")\n",
                "while ml_client.compute.get(name=compute_name).provisioning_state == \"Creating\":\n",
                "    sleep(1)\n",
                "    print(\".\", end=\"\")\n",
                "\n",
                "print(\" [DONE]\")"
            ]
        },
        {
            "attachments": {},
            "cell_type": "markdown",
            "metadata": {},
            "source": [
                "### 4.3 Creating the environment\n",
                "\n",
                "> MLflow models don't require an environment."
            ]
        },
        {
            "attachments": {},
            "cell_type": "markdown",
            "metadata": {},
            "source": [
                "### 4.4 Configuring the deployment"
            ]
        },
        {
            "cell_type": "code",
            "execution_count": 52,
            "metadata": {},
            "outputs": [
                {
                    "name": "stdout",
                    "output_type": "stream",
                    "text": [
                        "."
                    ]
                }
            ],
            "source": [
                "from azure.ai.ml.constants import BatchDeploymentOutputAction\n",
                "from azure.ai.ml.entities import BatchRetrySettings\n",
                "\n",
                "deployment = BatchDeployment(\n",
                "    name=\"credit-card-default\",\n",
                "    description=\"A credit card default classifier\",\n",
                "    endpoint_name=endpoint.name,\n",
                "    model=model,\n",
                "    compute=compute_name,\n",
                "    instance_count=2,\n",
                "    max_concurrency_per_instance=2,\n",
                "    mini_batch_size=10,\n",
                "    output_action=BatchDeploymentOutputAction.APPEND_ROW,\n",
                "    output_file_name=\"predictions.csv\",\n",
                "    retry_settings=BatchRetrySettings(max_retries=3, timeout=300),\n",
                "    logging_level=\"info\",\n",
                ")"
            ]
        },
        {
            "attachments": {},
            "cell_type": "markdown",
            "metadata": {},
            "source": [
                "### 4.5 Create the deployment\n",
                "Using the `MLClient` created earlier, we will now create the deployment in the workspace. This command will start the deployment creation and return a confirmation response while the deployment creation continues."
            ]
        },
        {
            "cell_type": "code",
            "execution_count": 53,
            "metadata": {},
            "outputs": [
                {
                    "name": "stdout",
                    "output_type": "stream",
                    "text": [
                        "......"
                    ]
                },
                {
                    "data": {
                        "text/plain": [
                            "BatchDeployment({'deployment_type': 'Model', 'job_definition': None, 'provisioning_state': 'Succeeded', 'endpoint_name': 'my-classifier-qtnqr', 'type': None, 'name': 'credit-card-default', 'description': 'A credit card default classifier', 'tags': {}, 'properties': {}, 'print_as_yaml': True, 'id': '/subscriptions/4980acc2-d47d-47e6-8498-a6b0744658d8/resourceGroups/EYMAY/providers/Microsoft.MachineLearningServices/workspaces/aml-anshu/batchEndpoints/my-classifier-qtnqr/deployments/credit-card-default', 'Resource__source_path': None, 'base_path': 'd:\\\\AI\\\\MLOps\\\\EYMAY23\\\\MLOps-with-Azure', 'creation_context': <azure.ai.ml.entities._system_data.SystemData object at 0x00000296910C25C0>, 'serialize': <msrest.serialization.Serializer object at 0x00000296910C0FA0>, 'model': '/subscriptions/4980acc2-d47d-47e6-8498-a6b0744658d8/resourceGroups/EYMAY/providers/Microsoft.MachineLearningServices/workspaces/aml-anshu/models/credit_defaults_model/versions/1', 'code_configuration': None, 'environment': None, 'environment_variables': {}, 'compute': '/subscriptions/4980acc2-d47d-47e6-8498-a6b0744658d8/resourceGroups/EYMAY/providers/Microsoft.MachineLearningServices/workspaces/aml-anshu/computes/cpu-cluster', 'resources': {'instance_count': 2, 'properties': {}}, 'output_action': 'append_row', 'output_file_name': 'predictions.csv', 'error_threshold': -1, 'retry_settings': <azure.ai.ml.entities._deployment.deployment_settings.BatchRetrySettings object at 0x000002968FD72140>, 'logging_level': 'Info', 'mini_batch_size': 10, 'max_concurrency_per_instance': 2})"
                        ]
                    },
                    "execution_count": 53,
                    "metadata": {},
                    "output_type": "execute_result"
                },
                {
                    "name": "stdout",
                    "output_type": "stream",
                    "text": [
                        "......"
                    ]
                }
            ],
            "source": [
                "ml_client.batch_deployments.begin_create_or_update(deployment).result()"
            ]
        },
        {
            "attachments": {},
            "cell_type": "markdown",
            "metadata": {},
            "source": [
                "Once created, let's configure this new deployment as the default one:"
            ]
        },
        {
            "cell_type": "code",
            "execution_count": 54,
            "metadata": {},
            "outputs": [
                {
                    "name": "stdout",
                    "output_type": "stream",
                    "text": [
                        "......"
                    ]
                },
                {
                    "data": {
                        "text/plain": [
                            "<azure.ai.ml._restclient.v2022_05_01.models._models_py3.BatchEndpointData at 0x296910c1030>"
                        ]
                    },
                    "execution_count": 54,
                    "metadata": {},
                    "output_type": "execute_result"
                },
                {
                    "name": "stdout",
                    "output_type": "stream",
                    "text": [
                        "."
                    ]
                }
            ],
            "source": [
                "endpoint = ml_client.batch_endpoints.get(endpoint.name)\n",
                "endpoint.defaults.deployment_name = deployment.name\n",
                "ml_client.batch_endpoints.begin_create_or_update(endpoint).result()"
            ]
        },
        {
            "attachments": {},
            "cell_type": "markdown",
            "metadata": {},
            "source": [
                "We can see the endpoint URL as follows:"
            ]
        },
        {
            "cell_type": "code",
            "execution_count": 55,
            "metadata": {},
            "outputs": [
                {
                    "name": "stdout",
                    "output_type": "stream",
                    "text": [
                        "The default deployment is credit-card-default\n"
                    ]
                },
                {
                    "name": "stdout",
                    "output_type": "stream",
                    "text": [
                        ".........."
                    ]
                }
            ],
            "source": [
                "print(f\"The default deployment is {endpoint.defaults.deployment_name}\")"
            ]
        },
        {
            "attachments": {},
            "cell_type": "markdown",
            "metadata": {},
            "source": [
                "### 4.6 Testing the deployment\n",
                "\n",
                "Once the deployment is created, it is ready to recieve jobs.\n",
                "\n",
                "#### 4.6.1 Creating a data asset\n",
                "\n",
                "Let's first register a data asset so we can run the job against it. "
            ]
        },
        {
            "cell_type": "code",
            "execution_count": 56,
            "metadata": {},
            "outputs": [],
            "source": [
                "data_path = \"credit_data/dataset-unlabeled.csv\"\n",
                "dataset_name = \"unlabeled-credit-card\"\n",
                "\n",
                "dataset_unlabeled = Data(\n",
                "    path=data_path,\n",
                "    type=AssetTypes.URI_FILE,\n",
                "    description=\"An unlabeled dataset for credit card defaults\",\n",
                "    name=dataset_name,\n",
                ")"
            ]
        },
        {
            "cell_type": "code",
            "execution_count": 57,
            "metadata": {},
            "outputs": [
                {
                    "name": "stderr",
                    "output_type": "stream",
                    "text": [
                        "\u001b[32mUploading dataset-unlabeled.csv\u001b[32m (< 1 MB): 100%|##########| 1.56k/1.56k [00:00<00:00, 25.4kB/s]\n",
                        "\u001b[39m\n",
                        "\n"
                    ]
                },
                {
                    "data": {
                        "text/plain": [
                            "Data({'skip_validation': False, 'mltable_schema_url': None, 'referenced_uris': None, 'type': 'uri_file', 'is_anonymous': False, 'auto_increment_version': False, 'name': 'unlabeled-credit-card', 'description': 'An unlabeled dataset for credit card defaults', 'tags': {}, 'properties': {}, 'print_as_yaml': True, 'id': '/subscriptions/4980acc2-d47d-47e6-8498-a6b0744658d8/resourceGroups/EYMAY/providers/Microsoft.MachineLearningServices/workspaces/aml-anshu/data/unlabeled-credit-card/versions/1', 'Resource__source_path': None, 'base_path': 'd:\\\\AI\\\\MLOps\\\\EYMAY23\\\\MLOps-with-Azure', 'creation_context': <azure.ai.ml.entities._system_data.SystemData object at 0x00000296911117B0>, 'serialize': <msrest.serialization.Serializer object at 0x0000029691111870>, 'version': '1', 'latest_version': None, 'path': 'azureml://subscriptions/4980acc2-d47d-47e6-8498-a6b0744658d8/resourcegroups/EYMAY/workspaces/aml-anshu/datastores/workspaceblobstore/paths/LocalUpload/cd2b663e48fee4c6f20f670b86495515/dataset-unlabeled.csv', 'datastore': None})"
                        ]
                    },
                    "execution_count": 57,
                    "metadata": {},
                    "output_type": "execute_result"
                }
            ],
            "source": [
                "ml_client.data.create_or_update(dataset_unlabeled)"
            ]
        },
        {
            "attachments": {},
            "cell_type": "markdown",
            "metadata": {},
            "source": [
                "Let's get a reference of the new data asset:"
            ]
        },
        {
            "cell_type": "code",
            "execution_count": 58,
            "metadata": {},
            "outputs": [],
            "source": [
                "dataset_unlabeled = ml_client.data.get(name=dataset_name, label=\"latest\")"
            ]
        },
        {
            "attachments": {},
            "cell_type": "markdown",
            "metadata": {},
            "source": [
                "#### 4.6.2 Creating an input for the deployment"
            ]
        },
        {
            "cell_type": "code",
            "execution_count": 59,
            "metadata": {},
            "outputs": [],
            "source": [
                "input = Input(type=AssetTypes.URI_FILE, path=dataset_unlabeled.id)"
            ]
        },
        {
            "attachments": {},
            "cell_type": "markdown",
            "metadata": {},
            "source": [
                "#### 4.6.3 Invoke the deployment\n",
                "\n",
                "Using the `MLClient` created earlier, we will get a handle to the endpoint. The endpoint can be invoked using the `invoke` command with the following parameters:\n",
                "- `name` - Name of the endpoint\n",
                "- `input_path` - Path where input data is present"
            ]
        },
        {
            "cell_type": "code",
            "execution_count": 60,
            "metadata": {},
            "outputs": [
                {
                    "ename": "Exception",
                    "evalue": "BY_POLICY",
                    "output_type": "error",
                    "traceback": [
                        "\u001b[1;31m---------------------------------------------------------------------------\u001b[0m",
                        "\u001b[1;31mJSONDecodeError\u001b[0m                           Traceback (most recent call last)",
                        "File \u001b[1;32m~\\AppData\\Roaming\\Python\\Python310\\site-packages\\azure\\ai\\ml\\_utils\\_endpoint_utils.py:116\u001b[0m, in \u001b[0;36mvalidate_response\u001b[1;34m(response)\u001b[0m\n\u001b[0;32m    115\u001b[0m \u001b[39mtry\u001b[39;00m:\n\u001b[1;32m--> 116\u001b[0m     r_json \u001b[39m=\u001b[39m response\u001b[39m.\u001b[39;49mjson()\n\u001b[0;32m    117\u001b[0m \u001b[39mexcept\u001b[39;00m \u001b[39mValueError\u001b[39;00m:\n\u001b[0;32m    118\u001b[0m     \u001b[39m# exception is not in the json format\u001b[39;00m\n",
                        "File \u001b[1;32m~\\AppData\\Roaming\\Python\\Python310\\site-packages\\azure\\core\\rest\\_http_response_impl.py:293\u001b[0m, in \u001b[0;36m_HttpResponseBaseImpl.json\u001b[1;34m(self)\u001b[0m\n\u001b[0;32m    292\u001b[0m \u001b[39mif\u001b[39;00m \u001b[39mnot\u001b[39;00m \u001b[39mself\u001b[39m\u001b[39m.\u001b[39m_json:\n\u001b[1;32m--> 293\u001b[0m     \u001b[39mself\u001b[39m\u001b[39m.\u001b[39m_json \u001b[39m=\u001b[39m loads(\u001b[39mself\u001b[39;49m\u001b[39m.\u001b[39;49mtext())\n\u001b[0;32m    294\u001b[0m \u001b[39mreturn\u001b[39;00m \u001b[39mself\u001b[39m\u001b[39m.\u001b[39m_json\n",
                        "File \u001b[1;32mc:\\ProgramData\\anaconda3\\lib\\json\\__init__.py:346\u001b[0m, in \u001b[0;36mloads\u001b[1;34m(s, cls, object_hook, parse_float, parse_int, parse_constant, object_pairs_hook, **kw)\u001b[0m\n\u001b[0;32m    343\u001b[0m \u001b[39mif\u001b[39;00m (\u001b[39mcls\u001b[39m \u001b[39mis\u001b[39;00m \u001b[39mNone\u001b[39;00m \u001b[39mand\u001b[39;00m object_hook \u001b[39mis\u001b[39;00m \u001b[39mNone\u001b[39;00m \u001b[39mand\u001b[39;00m\n\u001b[0;32m    344\u001b[0m         parse_int \u001b[39mis\u001b[39;00m \u001b[39mNone\u001b[39;00m \u001b[39mand\u001b[39;00m parse_float \u001b[39mis\u001b[39;00m \u001b[39mNone\u001b[39;00m \u001b[39mand\u001b[39;00m\n\u001b[0;32m    345\u001b[0m         parse_constant \u001b[39mis\u001b[39;00m \u001b[39mNone\u001b[39;00m \u001b[39mand\u001b[39;00m object_pairs_hook \u001b[39mis\u001b[39;00m \u001b[39mNone\u001b[39;00m \u001b[39mand\u001b[39;00m \u001b[39mnot\u001b[39;00m kw):\n\u001b[1;32m--> 346\u001b[0m     \u001b[39mreturn\u001b[39;00m _default_decoder\u001b[39m.\u001b[39;49mdecode(s)\n\u001b[0;32m    347\u001b[0m \u001b[39mif\u001b[39;00m \u001b[39mcls\u001b[39m \u001b[39mis\u001b[39;00m \u001b[39mNone\u001b[39;00m:\n",
                        "File \u001b[1;32mc:\\ProgramData\\anaconda3\\lib\\json\\decoder.py:337\u001b[0m, in \u001b[0;36mJSONDecoder.decode\u001b[1;34m(self, s, _w)\u001b[0m\n\u001b[0;32m    333\u001b[0m \u001b[39m\"\"\"Return the Python representation of ``s`` (a ``str`` instance\u001b[39;00m\n\u001b[0;32m    334\u001b[0m \u001b[39mcontaining a JSON document).\u001b[39;00m\n\u001b[0;32m    335\u001b[0m \n\u001b[0;32m    336\u001b[0m \u001b[39m\"\"\"\u001b[39;00m\n\u001b[1;32m--> 337\u001b[0m obj, end \u001b[39m=\u001b[39m \u001b[39mself\u001b[39;49m\u001b[39m.\u001b[39;49mraw_decode(s, idx\u001b[39m=\u001b[39;49m_w(s, \u001b[39m0\u001b[39;49m)\u001b[39m.\u001b[39;49mend())\n\u001b[0;32m    338\u001b[0m end \u001b[39m=\u001b[39m _w(s, end)\u001b[39m.\u001b[39mend()\n",
                        "File \u001b[1;32mc:\\ProgramData\\anaconda3\\lib\\json\\decoder.py:355\u001b[0m, in \u001b[0;36mJSONDecoder.raw_decode\u001b[1;34m(self, s, idx)\u001b[0m\n\u001b[0;32m    354\u001b[0m \u001b[39mexcept\u001b[39;00m \u001b[39mStopIteration\u001b[39;00m \u001b[39mas\u001b[39;00m err:\n\u001b[1;32m--> 355\u001b[0m     \u001b[39mraise\u001b[39;00m JSONDecodeError(\u001b[39m\"\u001b[39m\u001b[39mExpecting value\u001b[39m\u001b[39m\"\u001b[39m, s, err\u001b[39m.\u001b[39mvalue) \u001b[39mfrom\u001b[39;00m \u001b[39mNone\u001b[39m\n\u001b[0;32m    356\u001b[0m \u001b[39mreturn\u001b[39;00m obj, end\n",
                        "\u001b[1;31mJSONDecodeError\u001b[0m: Expecting value: line 1 column 1 (char 0)",
                        "\nDuring handling of the above exception, another exception occurred:\n",
                        "\u001b[1;31mException\u001b[0m                                 Traceback (most recent call last)",
                        "Cell \u001b[1;32mIn[60], line 1\u001b[0m\n\u001b[1;32m----> 1\u001b[0m job \u001b[39m=\u001b[39m ml_client\u001b[39m.\u001b[39;49mbatch_endpoints\u001b[39m.\u001b[39;49minvoke(endpoint_name\u001b[39m=\u001b[39;49mendpoint\u001b[39m.\u001b[39;49mname, \u001b[39minput\u001b[39;49m\u001b[39m=\u001b[39;49m\u001b[39minput\u001b[39;49m)\n",
                        "File \u001b[1;32m~\\AppData\\Roaming\\Python\\Python310\\site-packages\\azure\\core\\tracing\\decorator.py:76\u001b[0m, in \u001b[0;36mdistributed_trace.<locals>.decorator.<locals>.wrapper_use_tracer\u001b[1;34m(*args, **kwargs)\u001b[0m\n\u001b[0;32m     74\u001b[0m span_impl_type \u001b[39m=\u001b[39m settings\u001b[39m.\u001b[39mtracing_implementation()\n\u001b[0;32m     75\u001b[0m \u001b[39mif\u001b[39;00m span_impl_type \u001b[39mis\u001b[39;00m \u001b[39mNone\u001b[39;00m:\n\u001b[1;32m---> 76\u001b[0m     \u001b[39mreturn\u001b[39;00m func(\u001b[39m*\u001b[39margs, \u001b[39m*\u001b[39m\u001b[39m*\u001b[39mkwargs)\n\u001b[0;32m     78\u001b[0m \u001b[39m# Merge span is parameter is set, but only if no explicit parent are passed\u001b[39;00m\n\u001b[0;32m     79\u001b[0m \u001b[39mif\u001b[39;00m merge_span \u001b[39mand\u001b[39;00m \u001b[39mnot\u001b[39;00m passed_in_parent:\n",
                        "File \u001b[1;32m~\\AppData\\Roaming\\Python\\Python310\\site-packages\\azure\\ai\\ml\\_telemetry\\activity.py:263\u001b[0m, in \u001b[0;36mmonitor_with_activity.<locals>.monitor.<locals>.wrapper\u001b[1;34m(*args, **kwargs)\u001b[0m\n\u001b[0;32m    260\u001b[0m \u001b[39m@functools\u001b[39m\u001b[39m.\u001b[39mwraps(f)\n\u001b[0;32m    261\u001b[0m \u001b[39mdef\u001b[39;00m \u001b[39mwrapper\u001b[39m(\u001b[39m*\u001b[39margs, \u001b[39m*\u001b[39m\u001b[39m*\u001b[39mkwargs):\n\u001b[0;32m    262\u001b[0m     \u001b[39mwith\u001b[39;00m log_activity(logger, activity_name \u001b[39mor\u001b[39;00m f\u001b[39m.\u001b[39m\u001b[39m__name__\u001b[39m, activity_type, custom_dimensions):\n\u001b[1;32m--> 263\u001b[0m         \u001b[39mreturn\u001b[39;00m f(\u001b[39m*\u001b[39margs, \u001b[39m*\u001b[39m\u001b[39m*\u001b[39mkwargs)\n",
                        "File \u001b[1;32m~\\AppData\\Roaming\\Python\\Python310\\site-packages\\azure\\ai\\ml\\operations\\_batch_endpoint_operations.py:316\u001b[0m, in \u001b[0;36mBatchEndpointOperations.invoke\u001b[1;34m(self, endpoint_name, deployment_name, inputs, **kwargs)\u001b[0m\n\u001b[0;32m    309\u001b[0m     headers[EndpointInvokeFields\u001b[39m.\u001b[39mMODEL_DEPLOYMENT] \u001b[39m=\u001b[39m deployment_name\n\u001b[0;32m    311\u001b[0m response \u001b[39m=\u001b[39m \u001b[39mself\u001b[39m\u001b[39m.\u001b[39m_requests_pipeline\u001b[39m.\u001b[39mpost(\n\u001b[0;32m    312\u001b[0m     endpoint\u001b[39m.\u001b[39mproperties\u001b[39m.\u001b[39mscoring_uri,\n\u001b[0;32m    313\u001b[0m     json\u001b[39m=\u001b[39mBatchJobResource(properties\u001b[39m=\u001b[39mbatch_job)\u001b[39m.\u001b[39mserialize(),\n\u001b[0;32m    314\u001b[0m     headers\u001b[39m=\u001b[39mheaders,\n\u001b[0;32m    315\u001b[0m )\n\u001b[1;32m--> 316\u001b[0m validate_response(response)\n\u001b[0;32m    317\u001b[0m batch_job \u001b[39m=\u001b[39m json\u001b[39m.\u001b[39mloads(response\u001b[39m.\u001b[39mtext())\n\u001b[0;32m    318\u001b[0m \u001b[39mreturn\u001b[39;00m BatchJobResource\u001b[39m.\u001b[39mdeserialize(batch_job)\n",
                        "File \u001b[1;32m~\\AppData\\Roaming\\Python\\Python310\\site-packages\\azure\\ai\\ml\\_utils\\_endpoint_utils.py:119\u001b[0m, in \u001b[0;36mvalidate_response\u001b[1;34m(response)\u001b[0m\n\u001b[0;32m    116\u001b[0m         r_json \u001b[39m=\u001b[39m response\u001b[39m.\u001b[39mjson()\n\u001b[0;32m    117\u001b[0m     \u001b[39mexcept\u001b[39;00m \u001b[39mValueError\u001b[39;00m:\n\u001b[0;32m    118\u001b[0m         \u001b[39m# exception is not in the json format\u001b[39;00m\n\u001b[1;32m--> 119\u001b[0m         \u001b[39mraise\u001b[39;00m \u001b[39mException\u001b[39;00m(response\u001b[39m.\u001b[39mcontent\u001b[39m.\u001b[39mdecode(\u001b[39m\"\u001b[39m\u001b[39mutf-8\u001b[39m\u001b[39m\"\u001b[39m))\n\u001b[0;32m    120\u001b[0m failure_msg \u001b[39m=\u001b[39m r_json\u001b[39m.\u001b[39mget(\u001b[39m\"\u001b[39m\u001b[39merror\u001b[39m\u001b[39m\"\u001b[39m, {})\u001b[39m.\u001b[39mget(\u001b[39m\"\u001b[39m\u001b[39mmessage\u001b[39m\u001b[39m\"\u001b[39m, response)\n\u001b[0;32m    121\u001b[0m error_map \u001b[39m=\u001b[39m {\n\u001b[0;32m    122\u001b[0m     \u001b[39m401\u001b[39m: ClientAuthenticationError,\n\u001b[0;32m    123\u001b[0m     \u001b[39m404\u001b[39m: ResourceNotFoundError,\n\u001b[0;32m    124\u001b[0m     \u001b[39m409\u001b[39m: ResourceExistsError,\n\u001b[0;32m    125\u001b[0m }\n",
                        "\u001b[1;31mException\u001b[0m: BY_POLICY"
                    ]
                }
            ],
            "source": [
                "job = ml_client.batch_endpoints.invoke(endpoint_name=endpoint.name, input=input)"
            ]
        },
        {
            "attachments": {},
            "cell_type": "markdown",
            "metadata": {},
            "source": [
                "Notice how we are not indicating the deployment name in the invoke operation. That's because the endpoint automatically routes the job to the default deployment. Since our endpoint only has one deployment, then that one is the default one. You can target an specific deployment by indicating the argument/parameter `deployment_name`."
            ]
        },
        {
            "cell_type": "code",
            "execution_count": 61,
            "metadata": {},
            "outputs": [
                {
                    "ename": "Exception",
                    "evalue": "BY_POLICY",
                    "output_type": "error",
                    "traceback": [
                        "\u001b[1;31m---------------------------------------------------------------------------\u001b[0m",
                        "\u001b[1;31mJSONDecodeError\u001b[0m                           Traceback (most recent call last)",
                        "File \u001b[1;32m~\\AppData\\Roaming\\Python\\Python310\\site-packages\\azure\\ai\\ml\\_utils\\_endpoint_utils.py:116\u001b[0m, in \u001b[0;36mvalidate_response\u001b[1;34m(response)\u001b[0m\n\u001b[0;32m    115\u001b[0m \u001b[39mtry\u001b[39;00m:\n\u001b[1;32m--> 116\u001b[0m     r_json \u001b[39m=\u001b[39m response\u001b[39m.\u001b[39;49mjson()\n\u001b[0;32m    117\u001b[0m \u001b[39mexcept\u001b[39;00m \u001b[39mValueError\u001b[39;00m:\n\u001b[0;32m    118\u001b[0m     \u001b[39m# exception is not in the json format\u001b[39;00m\n",
                        "File \u001b[1;32m~\\AppData\\Roaming\\Python\\Python310\\site-packages\\azure\\core\\rest\\_http_response_impl.py:293\u001b[0m, in \u001b[0;36m_HttpResponseBaseImpl.json\u001b[1;34m(self)\u001b[0m\n\u001b[0;32m    292\u001b[0m \u001b[39mif\u001b[39;00m \u001b[39mnot\u001b[39;00m \u001b[39mself\u001b[39m\u001b[39m.\u001b[39m_json:\n\u001b[1;32m--> 293\u001b[0m     \u001b[39mself\u001b[39m\u001b[39m.\u001b[39m_json \u001b[39m=\u001b[39m loads(\u001b[39mself\u001b[39;49m\u001b[39m.\u001b[39;49mtext())\n\u001b[0;32m    294\u001b[0m \u001b[39mreturn\u001b[39;00m \u001b[39mself\u001b[39m\u001b[39m.\u001b[39m_json\n",
                        "File \u001b[1;32mc:\\ProgramData\\anaconda3\\lib\\json\\__init__.py:346\u001b[0m, in \u001b[0;36mloads\u001b[1;34m(s, cls, object_hook, parse_float, parse_int, parse_constant, object_pairs_hook, **kw)\u001b[0m\n\u001b[0;32m    343\u001b[0m \u001b[39mif\u001b[39;00m (\u001b[39mcls\u001b[39m \u001b[39mis\u001b[39;00m \u001b[39mNone\u001b[39;00m \u001b[39mand\u001b[39;00m object_hook \u001b[39mis\u001b[39;00m \u001b[39mNone\u001b[39;00m \u001b[39mand\u001b[39;00m\n\u001b[0;32m    344\u001b[0m         parse_int \u001b[39mis\u001b[39;00m \u001b[39mNone\u001b[39;00m \u001b[39mand\u001b[39;00m parse_float \u001b[39mis\u001b[39;00m \u001b[39mNone\u001b[39;00m \u001b[39mand\u001b[39;00m\n\u001b[0;32m    345\u001b[0m         parse_constant \u001b[39mis\u001b[39;00m \u001b[39mNone\u001b[39;00m \u001b[39mand\u001b[39;00m object_pairs_hook \u001b[39mis\u001b[39;00m \u001b[39mNone\u001b[39;00m \u001b[39mand\u001b[39;00m \u001b[39mnot\u001b[39;00m kw):\n\u001b[1;32m--> 346\u001b[0m     \u001b[39mreturn\u001b[39;00m _default_decoder\u001b[39m.\u001b[39;49mdecode(s)\n\u001b[0;32m    347\u001b[0m \u001b[39mif\u001b[39;00m \u001b[39mcls\u001b[39m \u001b[39mis\u001b[39;00m \u001b[39mNone\u001b[39;00m:\n",
                        "File \u001b[1;32mc:\\ProgramData\\anaconda3\\lib\\json\\decoder.py:337\u001b[0m, in \u001b[0;36mJSONDecoder.decode\u001b[1;34m(self, s, _w)\u001b[0m\n\u001b[0;32m    333\u001b[0m \u001b[39m\"\"\"Return the Python representation of ``s`` (a ``str`` instance\u001b[39;00m\n\u001b[0;32m    334\u001b[0m \u001b[39mcontaining a JSON document).\u001b[39;00m\n\u001b[0;32m    335\u001b[0m \n\u001b[0;32m    336\u001b[0m \u001b[39m\"\"\"\u001b[39;00m\n\u001b[1;32m--> 337\u001b[0m obj, end \u001b[39m=\u001b[39m \u001b[39mself\u001b[39;49m\u001b[39m.\u001b[39;49mraw_decode(s, idx\u001b[39m=\u001b[39;49m_w(s, \u001b[39m0\u001b[39;49m)\u001b[39m.\u001b[39;49mend())\n\u001b[0;32m    338\u001b[0m end \u001b[39m=\u001b[39m _w(s, end)\u001b[39m.\u001b[39mend()\n",
                        "File \u001b[1;32mc:\\ProgramData\\anaconda3\\lib\\json\\decoder.py:355\u001b[0m, in \u001b[0;36mJSONDecoder.raw_decode\u001b[1;34m(self, s, idx)\u001b[0m\n\u001b[0;32m    354\u001b[0m \u001b[39mexcept\u001b[39;00m \u001b[39mStopIteration\u001b[39;00m \u001b[39mas\u001b[39;00m err:\n\u001b[1;32m--> 355\u001b[0m     \u001b[39mraise\u001b[39;00m JSONDecodeError(\u001b[39m\"\u001b[39m\u001b[39mExpecting value\u001b[39m\u001b[39m\"\u001b[39m, s, err\u001b[39m.\u001b[39mvalue) \u001b[39mfrom\u001b[39;00m \u001b[39mNone\u001b[39m\n\u001b[0;32m    356\u001b[0m \u001b[39mreturn\u001b[39;00m obj, end\n",
                        "\u001b[1;31mJSONDecodeError\u001b[0m: Expecting value: line 1 column 1 (char 0)",
                        "\nDuring handling of the above exception, another exception occurred:\n",
                        "\u001b[1;31mException\u001b[0m                                 Traceback (most recent call last)",
                        "Cell \u001b[1;32mIn[61], line 1\u001b[0m\n\u001b[1;32m----> 1\u001b[0m job \u001b[39m=\u001b[39m ml_client\u001b[39m.\u001b[39;49mbatch_endpoints\u001b[39m.\u001b[39;49minvoke(\n\u001b[0;32m      2\u001b[0m     deployment_name\u001b[39m=\u001b[39;49mdeployment\u001b[39m.\u001b[39;49mname, endpoint_name\u001b[39m=\u001b[39;49mendpoint\u001b[39m.\u001b[39;49mname, \u001b[39minput\u001b[39;49m\u001b[39m=\u001b[39;49m\u001b[39minput\u001b[39;49m\n\u001b[0;32m      3\u001b[0m )\n",
                        "File \u001b[1;32m~\\AppData\\Roaming\\Python\\Python310\\site-packages\\azure\\core\\tracing\\decorator.py:76\u001b[0m, in \u001b[0;36mdistributed_trace.<locals>.decorator.<locals>.wrapper_use_tracer\u001b[1;34m(*args, **kwargs)\u001b[0m\n\u001b[0;32m     74\u001b[0m span_impl_type \u001b[39m=\u001b[39m settings\u001b[39m.\u001b[39mtracing_implementation()\n\u001b[0;32m     75\u001b[0m \u001b[39mif\u001b[39;00m span_impl_type \u001b[39mis\u001b[39;00m \u001b[39mNone\u001b[39;00m:\n\u001b[1;32m---> 76\u001b[0m     \u001b[39mreturn\u001b[39;00m func(\u001b[39m*\u001b[39margs, \u001b[39m*\u001b[39m\u001b[39m*\u001b[39mkwargs)\n\u001b[0;32m     78\u001b[0m \u001b[39m# Merge span is parameter is set, but only if no explicit parent are passed\u001b[39;00m\n\u001b[0;32m     79\u001b[0m \u001b[39mif\u001b[39;00m merge_span \u001b[39mand\u001b[39;00m \u001b[39mnot\u001b[39;00m passed_in_parent:\n",
                        "File \u001b[1;32m~\\AppData\\Roaming\\Python\\Python310\\site-packages\\azure\\ai\\ml\\_telemetry\\activity.py:263\u001b[0m, in \u001b[0;36mmonitor_with_activity.<locals>.monitor.<locals>.wrapper\u001b[1;34m(*args, **kwargs)\u001b[0m\n\u001b[0;32m    260\u001b[0m \u001b[39m@functools\u001b[39m\u001b[39m.\u001b[39mwraps(f)\n\u001b[0;32m    261\u001b[0m \u001b[39mdef\u001b[39;00m \u001b[39mwrapper\u001b[39m(\u001b[39m*\u001b[39margs, \u001b[39m*\u001b[39m\u001b[39m*\u001b[39mkwargs):\n\u001b[0;32m    262\u001b[0m     \u001b[39mwith\u001b[39;00m log_activity(logger, activity_name \u001b[39mor\u001b[39;00m f\u001b[39m.\u001b[39m\u001b[39m__name__\u001b[39m, activity_type, custom_dimensions):\n\u001b[1;32m--> 263\u001b[0m         \u001b[39mreturn\u001b[39;00m f(\u001b[39m*\u001b[39margs, \u001b[39m*\u001b[39m\u001b[39m*\u001b[39mkwargs)\n",
                        "File \u001b[1;32m~\\AppData\\Roaming\\Python\\Python310\\site-packages\\azure\\ai\\ml\\operations\\_batch_endpoint_operations.py:316\u001b[0m, in \u001b[0;36mBatchEndpointOperations.invoke\u001b[1;34m(self, endpoint_name, deployment_name, inputs, **kwargs)\u001b[0m\n\u001b[0;32m    309\u001b[0m     headers[EndpointInvokeFields\u001b[39m.\u001b[39mMODEL_DEPLOYMENT] \u001b[39m=\u001b[39m deployment_name\n\u001b[0;32m    311\u001b[0m response \u001b[39m=\u001b[39m \u001b[39mself\u001b[39m\u001b[39m.\u001b[39m_requests_pipeline\u001b[39m.\u001b[39mpost(\n\u001b[0;32m    312\u001b[0m     endpoint\u001b[39m.\u001b[39mproperties\u001b[39m.\u001b[39mscoring_uri,\n\u001b[0;32m    313\u001b[0m     json\u001b[39m=\u001b[39mBatchJobResource(properties\u001b[39m=\u001b[39mbatch_job)\u001b[39m.\u001b[39mserialize(),\n\u001b[0;32m    314\u001b[0m     headers\u001b[39m=\u001b[39mheaders,\n\u001b[0;32m    315\u001b[0m )\n\u001b[1;32m--> 316\u001b[0m validate_response(response)\n\u001b[0;32m    317\u001b[0m batch_job \u001b[39m=\u001b[39m json\u001b[39m.\u001b[39mloads(response\u001b[39m.\u001b[39mtext())\n\u001b[0;32m    318\u001b[0m \u001b[39mreturn\u001b[39;00m BatchJobResource\u001b[39m.\u001b[39mdeserialize(batch_job)\n",
                        "File \u001b[1;32m~\\AppData\\Roaming\\Python\\Python310\\site-packages\\azure\\ai\\ml\\_utils\\_endpoint_utils.py:119\u001b[0m, in \u001b[0;36mvalidate_response\u001b[1;34m(response)\u001b[0m\n\u001b[0;32m    116\u001b[0m         r_json \u001b[39m=\u001b[39m response\u001b[39m.\u001b[39mjson()\n\u001b[0;32m    117\u001b[0m     \u001b[39mexcept\u001b[39;00m \u001b[39mValueError\u001b[39;00m:\n\u001b[0;32m    118\u001b[0m         \u001b[39m# exception is not in the json format\u001b[39;00m\n\u001b[1;32m--> 119\u001b[0m         \u001b[39mraise\u001b[39;00m \u001b[39mException\u001b[39;00m(response\u001b[39m.\u001b[39mcontent\u001b[39m.\u001b[39mdecode(\u001b[39m\"\u001b[39m\u001b[39mutf-8\u001b[39m\u001b[39m\"\u001b[39m))\n\u001b[0;32m    120\u001b[0m failure_msg \u001b[39m=\u001b[39m r_json\u001b[39m.\u001b[39mget(\u001b[39m\"\u001b[39m\u001b[39merror\u001b[39m\u001b[39m\"\u001b[39m, {})\u001b[39m.\u001b[39mget(\u001b[39m\"\u001b[39m\u001b[39mmessage\u001b[39m\u001b[39m\"\u001b[39m, response)\n\u001b[0;32m    121\u001b[0m error_map \u001b[39m=\u001b[39m {\n\u001b[0;32m    122\u001b[0m     \u001b[39m401\u001b[39m: ClientAuthenticationError,\n\u001b[0;32m    123\u001b[0m     \u001b[39m404\u001b[39m: ResourceNotFoundError,\n\u001b[0;32m    124\u001b[0m     \u001b[39m409\u001b[39m: ResourceExistsError,\n\u001b[0;32m    125\u001b[0m }\n",
                        "\u001b[1;31mException\u001b[0m: BY_POLICY"
                    ]
                }
            ],
            "source": [
                "job = ml_client.batch_endpoints.invoke(\n",
                "    deployment_name=deployment.name, endpoint_name=endpoint.name, input=input\n",
                ")"
            ]
        },
        {
            "attachments": {},
            "cell_type": "markdown",
            "metadata": {},
            "source": [
                "#### 4.6.4 Get the details of the invoked job\n",
                "\n",
                "Let us get details and logs of the invoked job:"
            ]
        },
        {
            "cell_type": "code",
            "execution_count": null,
            "metadata": {},
            "outputs": [],
            "source": [
                "ml_client.jobs.get(job.name)"
            ]
        },
        {
            "attachments": {},
            "cell_type": "markdown",
            "metadata": {},
            "source": [
                "We can wait for the job to finish using the following code:"
            ]
        },
        {
            "cell_type": "code",
            "execution_count": null,
            "metadata": {},
            "outputs": [],
            "source": [
                "print(f\"Waiting for batch job deployment {job.name}\", end=\"\")\n",
                "while ml_client.jobs.get(name=job.name).status not in [\"Completed\", \"Failed\"]:\n",
                "    sleep(10)\n",
                "    print(\".\", end=\"\")\n",
                "\n",
                "print(\" [DONE]\")"
            ]
        },
        {
            "attachments": {},
            "cell_type": "markdown",
            "metadata": {},
            "source": [
                "### 4.7 Exploring the results\n",
                "\n",
                "The deployment creates a child job that executes the scoring. We can get the details of it using the following code:"
            ]
        },
        {
            "cell_type": "code",
            "execution_count": null,
            "metadata": {},
            "outputs": [],
            "source": [
                "scoring_job = list(ml_client.jobs.list(parent_job_name=job.name))[0]"
            ]
        },
        {
            "attachments": {},
            "cell_type": "markdown",
            "metadata": {},
            "source": [
                "#### 4.7.1 Download the results\n",
                "\n",
                "The outputs generated by the deployment job will be placed in an output named `score`:"
            ]
        },
        {
            "cell_type": "code",
            "execution_count": null,
            "metadata": {},
            "outputs": [],
            "source": [
                "ml_client.jobs.download(name=scoring_job.name, download_path=\".\", output_name=\"score\")"
            ]
        },
        {
            "attachments": {},
            "cell_type": "markdown",
            "metadata": {},
            "source": [
                "We can read this data using pandas library:\n",
                "\n",
                "> Tip: Notice how the CSV is read as opposite to use directly `pd.read_csv`."
            ]
        },
        {
            "cell_type": "code",
            "execution_count": null,
            "metadata": {},
            "outputs": [],
            "source": [
                "with open(\"named-outputs/score/predictions.csv\", \"r\") as f:\n",
                "    data = f.read()"
            ]
        },
        {
            "cell_type": "code",
            "execution_count": null,
            "metadata": {},
            "outputs": [],
            "source": [
                "from ast import literal_eval\n",
                "import pandas as pd\n",
                "\n",
                "score = pd.DataFrame(\n",
                "    literal_eval(data.replace(\"\\n\", \",\")), columns=[\"file\", \"prediction\"]\n",
                ")\n",
                "score"
            ]
        },
        {
            "attachments": {},
            "cell_type": "markdown",
            "metadata": {},
            "source": [
                "## 5. Clean up resources\n",
                "\n",
                "Clean-up the resources created. "
            ]
        },
        {
            "cell_type": "code",
            "execution_count": null,
            "metadata": {},
            "outputs": [],
            "source": [
                "ml_client.batch_endpoints.begin_delete(endpoint_name)"
            ]
        }
    ],
    "metadata": {
        "celltoolbar": "Edit Metadata",
        "description": {
            "description": "Create production ML pipelines with Python SDK v2 in a Jupyter notebook"
        },
        "kernelspec": {
            "display_name": "base",
            "language": "python",
            "name": "python3"
        },
        "language_info": {
            "codemirror_mode": {
                "name": "ipython",
                "version": 3
            },
            "file_extension": ".py",
            "mimetype": "text/x-python",
            "name": "python",
            "nbconvert_exporter": "python",
            "pygments_lexer": "ipython3",
            "version": "3.10.1"
        },
        "nteract": {
            "version": "nteract-front-end@1.0.0"
        }
    },
    "nbformat": 4,
    "nbformat_minor": 1
}
